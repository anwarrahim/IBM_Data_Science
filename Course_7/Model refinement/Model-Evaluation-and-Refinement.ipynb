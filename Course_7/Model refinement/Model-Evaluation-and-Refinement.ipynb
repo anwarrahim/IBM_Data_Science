{
 "cells": [
  {
   "cell_type": "markdown",
   "id": "90bac015-1dd4-4c61-a409-83f486e0cf66",
   "metadata": {},
   "outputs": [],
   "source": [
    "<h2>Table of Contents</h2>\n",
    "<ul>\n",
    "    <li><a href=\"#ref1\">Model Evaluation </a></li>\n",
    "    <li><a href=\"#ref2\">Over-fitting, Under-fitting and Model Selection </a></li>\n",
    "    <li><a href=\"#ref3\">Ridge Regression </a></li>\n",
    "    <li><a href=\"#ref4\">Grid Search</a></li>\n",
    "</ul>\n"
   ]
  },
  {
   "cell_type": "markdown",
   "id": "4d31744c-bfe4-4b51-9f04-14b30bfea6bb",
   "metadata": {},
   "outputs": [],
   "source": [
    "This dataset was hosted on IBM Cloud object. Click <a href=\"https://cocl.us/DA101EN_object_storage\">HERE</a> for free storage.\n"
   ]
  },
  {
   "cell_type": "code",
   "id": "7c886797-153a-4039-a394-6303435ac7e7",
   "metadata": {},
   "outputs": [],
   "source": [
    "#install specific version of libraries used in lab\n",
    "#! mamba install pandas==1.3.3 -y\n",
    "#! mamba install numpy=1.21.2 -y\n",
    "#! mamba install sklearn=0.20.1 -y\n",
    "#! mamba install   ipywidgets=7.4.2 -y"
   ]
  },
  {
   "cell_type": "code",
   "id": "766a63ba-c122-4e69-b9b3-ae73cd08f337",
   "metadata": {},
   "outputs": [],
   "source": [
    "#Install libraries\n",
    "%pip install pandas matplotlib scipy scikit-learn seaborn ipywidgets"
   ]
  },
  {
   "cell_type": "code",
   "id": "d21526a4-8b54-40ed-823d-a5ca36b03470",
   "metadata": {},
   "outputs": [],
   "source": []
  },
  {
   "cell_type": "code",
   "id": "8bd695dd-921e-430a-8013-b8509f85d20d",
   "metadata": {},
   "outputs": [],
   "source": [
    "import pandas as pd\n",
    "import numpy as np\n",
    "\n",
    "# Import clean data \n",
    "path = 'https://cf-courses-data.s3.us.cloud-object-storage.appdomain.cloud/IBMDeveloperSkillsNetwork-DA0101EN-SkillsNetwork/labs/Data%20files/module_5_auto.csv'\n",
    "df = pd.read_csv(path)"
   ]
  },
  {
   "cell_type": "code",
   "id": "dd41c503-07a0-4c6e-9abc-f001ef5f14ec",
   "metadata": {},
   "outputs": [],
   "source": [
    "df.to_csv('module_5_auto.csv')"
   ]
  },
  {
   "cell_type": "markdown",
   "id": "2cac608d-0e69-45d8-8306-42c9e13bd820",
   "metadata": {},
   "outputs": [],
   "source": [
    " First, let's only use numeric data:\n"
   ]
  },
  {
   "cell_type": "code",
   "id": "03c0d102-8984-4348-956b-561c3290a773",
   "metadata": {},
   "outputs": [],
   "source": [
    "df=df._get_numeric_data()\n",
    "df.head()"
   ]
  },
  {
   "cell_type": "markdown",
   "id": "d876bfa0-50ef-485d-93cf-a1dbb291e8cd",
   "metadata": {},
   "outputs": [],
   "source": [
    " Libraries for plotting:\n"
   ]
  },
  {
   "cell_type": "code",
   "id": "909a688e-8bdf-4d42-aec7-9a9480587071",
   "metadata": {},
   "outputs": [],
   "source": [
    "from ipywidgets import interact, interactive, fixed, interact_manual"
   ]
  },
  {
   "cell_type": "markdown",
   "id": "fee0591f-90fd-4143-a31d-1690ede42ba3",
   "metadata": {},
   "outputs": [],
   "source": [
    "<h2>Functions for Plotting</h2>\n"
   ]
  },
  {
   "cell_type": "code",
   "id": "16c0554a-216e-4dce-bf56-3b88652afc94",
   "metadata": {},
   "outputs": [],
   "source": [
    "def DistributionPlot(RedFunction, BlueFunction, RedName, BlueName, Title):\n",
    "    width = 12\n",
    "    height = 10\n",
    "    plt.figure(figsize=(width, height))\n",
    "\n",
    "    ax1 = sns.distplot(RedFunction, hist=False, color=\"r\", label=RedName)\n",
    "    ax2 = sns.distplot(BlueFunction, hist=False, color=\"b\", label=BlueName, ax=ax1)\n",
    "\n",
    "    plt.title(Title)\n",
    "    plt.xlabel('Price (in dollars)')\n",
    "    plt.ylabel('Proportion of Cars')\n",
    "\n",
    "    plt.show()\n",
    "    plt.close()"
   ]
  },
  {
   "cell_type": "code",
   "id": "d4ec18b4-b1de-4a84-bccb-0f9b6700480e",
   "metadata": {},
   "outputs": [],
   "source": [
    "def PollyPlot(xtrain, xtest, y_train, y_test, lr,poly_transform):\n",
    "    width = 12\n",
    "    height = 10\n",
    "    plt.figure(figsize=(width, height))\n",
    "    \n",
    "    \n",
    "    #training data \n",
    "    #testing data \n",
    "    # lr:  linear regression object \n",
    "    #poly_transform:  polynomial transformation object \n",
    " \n",
    "    xmax=max([xtrain.values.max(), xtest.values.max()])\n",
    "\n",
    "    xmin=min([xtrain.values.min(), xtest.values.min()])\n",
    "\n",
    "    x=np.arange(xmin, xmax, 0.1)\n",
    "\n",
    "\n",
    "    plt.plot(xtrain, y_train, 'ro', label='Training Data')\n",
    "    plt.plot(xtest, y_test, 'go', label='Test Data')\n",
    "    plt.plot(x, lr.predict(poly_transform.fit_transform(x.reshape(-1, 1))), label='Predicted Function')\n",
    "    plt.ylim([-10000, 60000])\n",
    "    plt.ylabel('Price')\n",
    "    plt.legend()"
   ]
  },
  {
   "cell_type": "markdown",
   "id": "b7670f64-61f0-4828-9e32-1e5e316a1aef",
   "metadata": {},
   "outputs": [],
   "source": [
    "<h2 id=\"ref1\">Part 1: Training and Testing</h2>\n",
    "\n",
    "<p>An important step in testing your model is to split your data into training and testing data. We will place the target data <b>price</b> in a separate dataframe <b>y_data</b>:</p>\n"
   ]
  },
  {
   "cell_type": "code",
   "id": "cbe486f8-c43e-4aad-bf0e-83d52673aa2e",
   "metadata": {},
   "outputs": [],
   "source": [
    "y_data = df['price']"
   ]
  },
  {
   "cell_type": "markdown",
   "id": "e22a6df5-c945-42de-b3cd-722ee1bdb5bb",
   "metadata": {},
   "outputs": [],
   "source": [
    "Drop price data in dataframe **x_data**:\n"
   ]
  },
  {
   "cell_type": "code",
   "id": "0e65233b-6b12-48ab-a507-731caa84583d",
   "metadata": {},
   "outputs": [],
   "source": [
    "x_data=df.drop('price',axis=1)"
   ]
  },
  {
   "cell_type": "markdown",
   "id": "d3f4c848-d26b-4819-ac3a-9f0dad287994",
   "metadata": {},
   "outputs": [],
   "source": [
    "Now, we randomly split our data into training and testing data using the function <b>train_test_split</b>. \n"
   ]
  },
  {
   "cell_type": "code",
   "id": "9fccc340-41e3-4f0d-9f71-212570ed8984",
   "metadata": {},
   "outputs": [],
   "source": [
    "from sklearn.model_selection import train_test_split\n",
    "\n",
    "\n",
    "x_train, x_test, y_train, y_test = train_test_split(x_data, y_data, test_size=0.10, random_state=1)\n",
    "\n",
    "\n",
    "print(\"number of test samples :\", x_test.shape[0])\n",
    "print(\"number of training samples:\",x_train.shape[0])\n"
   ]
  },
  {
   "cell_type": "markdown",
   "id": "aeea26dd-3fde-453d-a3e2-4b30f3793b72",
   "metadata": {},
   "outputs": [],
   "source": [
    "The <b>test_size</b> parameter sets the proportion of data that is split into the testing set. In the above, the testing set is 10% of the total dataset. \n"
   ]
  },
  {
   "cell_type": "markdown",
   "id": "60e764f4-0a21-42f6-bb95-f2d952cefc06",
   "metadata": {},
   "outputs": [],
   "source": [
    "<div class=\"alert alert-danger alertdanger\" style=\"margin-top: 20px\">\n",
    "<h1> Question  #1):</h1>\n",
    "\n",
    "<b>Use the function \"train_test_split\" to split up the dataset such that 40% of the data samples will be utilized for testing. Set the parameter \"random_state\" equal to zero. The output of the function should be the following:  \"x_train1\" , \"x_test1\", \"y_train1\" and  \"y_test1\".</b>\n",
    "</div>\n"
   ]
  },
  {
   "cell_type": "code",
   "id": "8ab1f1c3-f5eb-4564-ae20-b202d4aef663",
   "metadata": {},
   "outputs": [],
   "source": [
    "# Write your code below and press Shift+Enter to execute \n"
   ]
  },
  {
   "cell_type": "markdown",
   "id": "41c679e5-f4e5-448f-b4a1-7b4d055e2643",
   "metadata": {},
   "outputs": [],
   "source": [
    "<details><summary>Click here for the solution</summary>\n",
    "\n",
    "```python\n",
    "x_train1, x_test1, y_train1, y_test1 = train_test_split(x_data, y_data, test_size=0.4, random_state=0) \n",
    "print(\"number of test samples :\", x_test1.shape[0])\n",
    "print(\"number of training samples:\",x_train1.shape[0])\n",
    "```\n",
    "\n",
    "</details>\n"
   ]
  },
  {
   "cell_type": "markdown",
   "id": "f0066775-d9d6-4583-b6c4-68c809e7619a",
   "metadata": {},
   "outputs": [],
   "source": [
    "Let's import <b>LinearRegression</b> from the module <b>linear_model</b>.\n"
   ]
  },
  {
   "cell_type": "code",
   "id": "c5928a77-d6f7-42a8-9b68-00593500531c",
   "metadata": {},
   "outputs": [],
   "source": [
    "from sklearn.linear_model import LinearRegression"
   ]
  },
  {
   "cell_type": "markdown",
   "id": "69226774-db7e-44d6-a0bc-8a1a038f3bd4",
   "metadata": {},
   "outputs": [],
   "source": [
    " We create a Linear Regression object:\n"
   ]
  },
  {
   "cell_type": "code",
   "id": "423a51c1-19fd-47fc-b74f-1f78b2dd10bb",
   "metadata": {},
   "outputs": [],
   "source": [
    "lre=LinearRegression()"
   ]
  },
  {
   "cell_type": "markdown",
   "id": "77513f17-fdc0-4668-86b6-a6a17f47ef28",
   "metadata": {},
   "outputs": [],
   "source": [
    "We fit the model using the feature \"horsepower\":\n"
   ]
  },
  {
   "cell_type": "code",
   "id": "2ae8e8bb-0c30-4044-bbb7-7a3190352f60",
   "metadata": {},
   "outputs": [],
   "source": [
    "lre.fit(x_train[['horsepower']], y_train)"
   ]
  },
  {
   "cell_type": "markdown",
   "id": "d400b8b7-2ac4-4eee-b0eb-721262852288",
   "metadata": {},
   "outputs": [],
   "source": [
    "Let's calculate the R^2 on the test data:\n"
   ]
  },
  {
   "cell_type": "code",
   "id": "6f191089-cf8c-4089-bff2-d28a977cc787",
   "metadata": {},
   "outputs": [],
   "source": [
    "lre.score(x_test[['horsepower']], y_test)"
   ]
  },
  {
   "cell_type": "markdown",
   "id": "f8defb56-c055-4c2b-8363-4eb022621b2a",
   "metadata": {},
   "outputs": [],
   "source": [
    "We can see the R^2 is much smaller using the test data compared to the training data.\n"
   ]
  },
  {
   "cell_type": "code",
   "id": "51de80f6-2166-4c7e-bdef-3191d52ec414",
   "metadata": {},
   "outputs": [],
   "source": [
    "lre.score(x_train[['horsepower']], y_train)"
   ]
  },
  {
   "cell_type": "markdown",
   "id": "4fa93e5c-2bd6-46c1-9c8f-66943bb15376",
   "metadata": {},
   "outputs": [],
   "source": [
    "<div class=\"alert alert-danger alertdanger\" style=\"margin-top: 20px\">\n",
    "<h1> Question  #2): </h1>\n",
    "<b> \n",
    "Find the R^2  on the test data using 40% of the dataset for testing.\n",
    "</b>\n",
    "</div>\n"
   ]
  },
  {
   "cell_type": "code",
   "id": "e3bfcb83-8f2a-494e-b076-724f5bcb3b7d",
   "metadata": {},
   "outputs": [],
   "source": [
    "# Write your code below and press Shift+Enter to execute \n"
   ]
  },
  {
   "cell_type": "markdown",
   "id": "b32fd2a0-5dbb-45d0-a0d5-7523c550572e",
   "metadata": {},
   "outputs": [],
   "source": [
    "<details><summary>Click here for the solution</summary>\n",
    "\n",
    "```python\n",
    "x_train1, x_test1, y_train1, y_test1 = train_test_split(x_data, y_data, test_size=0.4, random_state=0)\n",
    "lre.fit(x_train1[['horsepower']],y_train1)\n",
    "lre.score(x_test1[['horsepower']],y_test1)\n",
    "\n",
    "```\n",
    "\n",
    "</details>\n"
   ]
  },
  {
   "cell_type": "markdown",
   "id": "1070a19c-84f7-4b95-ae27-0d7939d74160",
   "metadata": {},
   "outputs": [],
   "source": [
    "Sometimes you do not have sufficient testing data; as a result, you may want to perform cross-validation. Let's go over several methods that you can use for cross-validation. \n"
   ]
  },
  {
   "cell_type": "markdown",
   "id": "8f44b4f2-366f-4d21-aa3d-78d7ec6e9d5a",
   "metadata": {},
   "outputs": [],
   "source": [
    "<h2>Cross-Validation Score</h2>\n"
   ]
  },
  {
   "cell_type": "markdown",
   "id": "a9f4b742-b889-4358-b7cf-38d064e9cad6",
   "metadata": {},
   "outputs": [],
   "source": [
    "Let's import <b>model_selection</b> from the module <b>cross_val_score</b>.\n"
   ]
  },
  {
   "cell_type": "code",
   "id": "08a5a3eb-a9e1-4e2d-81fd-1a36546d78d7",
   "metadata": {},
   "outputs": [],
   "source": [
    "from sklearn.model_selection import cross_val_score"
   ]
  },
  {
   "cell_type": "markdown",
   "id": "6fd94a7e-4a6d-4160-b7aa-dfd7e3101e6e",
   "metadata": {},
   "outputs": [],
   "source": [
    "We input the object, the feature (\"horsepower\"), and the target data (y_data). The parameter 'cv' determines the number of folds. In this case, it is 4. \n"
   ]
  },
  {
   "cell_type": "code",
   "id": "5ad53019-40c0-49c3-8e24-af256a1ff3c5",
   "metadata": {},
   "outputs": [],
   "source": [
    "Rcross = cross_val_score(lre, x_data[['horsepower']], y_data, cv=4)"
   ]
  },
  {
   "cell_type": "markdown",
   "id": "6d61d477-d9b5-406a-8be9-590dacaaf639",
   "metadata": {},
   "outputs": [],
   "source": [
    "The default scoring is R^2. Each element in the array has the average R^2 value for the fold:\n"
   ]
  },
  {
   "cell_type": "code",
   "id": "3b3a4f38-c412-4ccf-b21e-3c3515f49c0f",
   "metadata": {},
   "outputs": [],
   "source": [
    "Rcross"
   ]
  },
  {
   "cell_type": "markdown",
   "id": "4df26fec-fde1-48c4-a1dd-9e966e06f139",
   "metadata": {},
   "outputs": [],
   "source": [
    " We can calculate the average and standard deviation of our estimate:\n"
   ]
  },
  {
   "cell_type": "code",
   "id": "33e2c18a-99f9-4de4-b94a-92628e385c85",
   "metadata": {},
   "outputs": [],
   "source": [
    "print(\"The mean of the folds are\", Rcross.mean(), \"and the standard deviation is\" , Rcross.std())"
   ]
  },
  {
   "cell_type": "markdown",
   "id": "a49aab87-7763-4b95-9fc4-6a70ad2a2e2c",
   "metadata": {},
   "outputs": [],
   "source": [
    "We can use negative squared error as a score by setting the parameter  'scoring' metric to 'neg_mean_squared_error'. \n"
   ]
  },
  {
   "cell_type": "code",
   "id": "a9b029b6-09d7-49f7-ba69-cb6814526fc1",
   "metadata": {},
   "outputs": [],
   "source": [
    "-1 * cross_val_score(lre,x_data[['horsepower']], y_data,cv=4,scoring='neg_mean_squared_error')"
   ]
  },
  {
   "cell_type": "markdown",
   "id": "eb54010e-c916-4d2a-9fea-cb05e080e4f3",
   "metadata": {},
   "outputs": [],
   "source": [
    "<div class=\"alert alert-danger alertdanger\" style=\"margin-top: 20px\">\n",
    "<h1> Question  #3): </h1>\n",
    "<b> \n",
    "Calculate the average R^2 using two folds, then find the average R^2 for the second fold utilizing the \"horsepower\" feature: \n",
    "</b>\n",
    "</div>\n"
   ]
  },
  {
   "cell_type": "code",
   "id": "38e4358f-f28d-4e52-b923-e61736754ba4",
   "metadata": {},
   "outputs": [],
   "source": [
    "# Write your code below and press Shift+Enter to execute \n"
   ]
  },
  {
   "cell_type": "markdown",
   "id": "f2251536-6d25-430a-9752-6dfe86659a53",
   "metadata": {},
   "outputs": [],
   "source": [
    "<details><summary>Click here for the solution</summary>\n",
    "\n",
    "```python\n",
    "Rc=cross_val_score(lre,x_data[['horsepower']], y_data,cv=2)\n",
    "Rc.mean()\n",
    "\n",
    "```\n",
    "\n",
    "</details>\n"
   ]
  },
  {
   "cell_type": "markdown",
   "id": "23190d3b-b43a-4656-b6f5-949e45978bcc",
   "metadata": {},
   "outputs": [],
   "source": [
    "You can also use the function 'cross_val_predict' to predict the output. The function splits up the data into the specified number of folds, with one fold for testing and the other folds are used for training. First, import the function:\n"
   ]
  },
  {
   "cell_type": "code",
   "id": "7d898aef-7f9a-465f-8341-ef0e0b4b58b3",
   "metadata": {},
   "outputs": [],
   "source": [
    "from sklearn.model_selection import cross_val_predict"
   ]
  },
  {
   "cell_type": "markdown",
   "id": "b24334c3-392e-465d-9741-85ca84c5b882",
   "metadata": {},
   "outputs": [],
   "source": [
    "We input the object, the feature <b>\"horsepower\"</b>, and the target data <b>y_data</b>. The parameter 'cv' determines the number of folds. In this case, it is 4. We can produce an output:\n"
   ]
  },
  {
   "cell_type": "code",
   "id": "3065d7e2-ef40-494d-a8e8-a61bf6985cd0",
   "metadata": {},
   "outputs": [],
   "source": [
    "yhat = cross_val_predict(lre,x_data[['horsepower']], y_data,cv=4)\n",
    "yhat[0:5]"
   ]
  },
  {
   "cell_type": "markdown",
   "id": "b8fd94f2-c2a7-497d-9119-0c2916e273a5",
   "metadata": {},
   "outputs": [],
   "source": [
    "<h2 id=\"ref2\">Part 2: Overfitting, Underfitting and Model Selection</h2>\n",
    "\n",
    "<p>It turns out that the test data, sometimes referred to as the \"out of sample data\", is a much better measure of how well your model performs in the real world.  One reason for this is overfitting.\n",
    "\n",
    "Let's go over some examples. It turns out these differences are more apparent in Multiple Linear Regression and Polynomial Regression so we will explore overfitting in that context.</p>\n"
   ]
  },
  {
   "cell_type": "markdown",
   "id": "7daf6106-9e6f-4e03-afe8-96236274f832",
   "metadata": {},
   "outputs": [],
   "source": [
    "Let's create Multiple Linear Regression objects and train the model using <b>'horsepower'</b>, <b>'curb-weight'</b>, <b>'engine-size'</b> and <b>'highway-mpg'</b> as features.\n"
   ]
  },
  {
   "cell_type": "code",
   "id": "720753f3-7264-44d3-86c9-c987a8eac3ba",
   "metadata": {},
   "outputs": [],
   "source": [
    "lr = LinearRegression()\n",
    "lr.fit(x_train[['horsepower', 'curb-weight', 'engine-size', 'highway-mpg']], y_train)"
   ]
  },
  {
   "cell_type": "markdown",
   "id": "81e1eb35-40b7-43ae-8459-585a1c8ed50b",
   "metadata": {},
   "outputs": [],
   "source": [
    "Prediction using training data:\n"
   ]
  },
  {
   "cell_type": "code",
   "id": "19d80c71-3313-4776-bcd0-5fb3ac14e3a8",
   "metadata": {},
   "outputs": [],
   "source": [
    "yhat_train = lr.predict(x_train[['horsepower', 'curb-weight', 'engine-size', 'highway-mpg']])\n",
    "yhat_train[0:5]"
   ]
  },
  {
   "cell_type": "markdown",
   "id": "fe900ffe-2801-409a-8291-efbc7af22e4a",
   "metadata": {},
   "outputs": [],
   "source": [
    "Prediction using test data: \n"
   ]
  },
  {
   "cell_type": "code",
   "id": "cc27de40-a51f-4816-b9e7-71f07b26ef2b",
   "metadata": {},
   "outputs": [],
   "source": [
    "yhat_test = lr.predict(x_test[['horsepower', 'curb-weight', 'engine-size', 'highway-mpg']])\n",
    "yhat_test[0:5]"
   ]
  },
  {
   "cell_type": "markdown",
   "id": "7fcbfc2a-b052-4cb1-b4c6-e45759b76964",
   "metadata": {},
   "outputs": [],
   "source": [
    "Let's perform some model evaluation using our training and testing data separately. First, we import the seaborn and matplotlib library for plotting.\n"
   ]
  },
  {
   "cell_type": "code",
   "id": "71163fa4-0c0d-4e1a-ac5e-6807028826fb",
   "metadata": {},
   "outputs": [],
   "source": [
    "import matplotlib.pyplot as plt\n",
    "%matplotlib inline\n",
    "import seaborn as sns"
   ]
  },
  {
   "cell_type": "markdown",
   "id": "7052ac7b-720b-4585-b2c6-f0f230a73638",
   "metadata": {},
   "outputs": [],
   "source": [
    "Let's examine the distribution of the predicted values of the training data.\n"
   ]
  },
  {
   "cell_type": "code",
   "id": "1a4dab7b-6b6a-4e2e-9080-de24250c590e",
   "metadata": {},
   "outputs": [],
   "source": [
    "Title = 'Distribution  Plot of  Predicted Value Using Training Data vs Training Data Distribution'\n",
    "DistributionPlot(y_train, yhat_train, \"Actual Values (Train)\", \"Predicted Values (Train)\", Title)"
   ]
  },
  {
   "cell_type": "markdown",
   "id": "fa48eb9f-d687-49a1-8260-4583d5921142",
   "metadata": {},
   "outputs": [],
   "source": [
    "Figure 1: Plot of predicted values using the training data compared to the actual values of the training data. \n"
   ]
  },
  {
   "cell_type": "markdown",
   "id": "958b8baa-5f05-400e-bcc0-2cba9a5ea02e",
   "metadata": {},
   "outputs": [],
   "source": [
    "So far, the model seems to be doing well in learning from the training dataset. But what happens when the model encounters new data from the testing dataset? When the model generates new values from the test data, we see the distribution of the predicted values is much different from the actual target values. \n"
   ]
  },
  {
   "cell_type": "code",
   "id": "4d43da31-1d10-4d4b-a9eb-3cfd887095e6",
   "metadata": {},
   "outputs": [],
   "source": [
    "Title='Distribution  Plot of  Predicted Value Using Test Data vs Data Distribution of Test Data'\n",
    "DistributionPlot(y_test,yhat_test,\"Actual Values (Test)\",\"Predicted Values (Test)\",Title)"
   ]
  },
  {
   "cell_type": "markdown",
   "id": "c10b1677-499c-430e-982f-a794a39a6934",
   "metadata": {},
   "outputs": [],
   "source": [
    "Figure 2: Plot of predicted value using the test data compared to the actual values of the test data. \n"
   ]
  },
  {
   "cell_type": "markdown",
   "id": "01abefea-874d-47d1-830a-2b213f3165f6",
   "metadata": {},
   "outputs": [],
   "source": [
    "<p>Comparing Figure 1 and Figure 2, it is evident that the distribution of the test data in Figure 1 is much better at fitting the data. This difference in Figure 2 is apparent in the range of 5000 to 15,000. This is where the shape of the distribution is extremely different. Let's see if polynomial regression also exhibits a drop in the prediction accuracy when analysing the test dataset.</p>\n"
   ]
  },
  {
   "cell_type": "code",
   "id": "4813b581-503c-4556-b276-c4600b1503c5",
   "metadata": {},
   "outputs": [],
   "source": [
    "from sklearn.preprocessing import PolynomialFeatures"
   ]
  },
  {
   "cell_type": "markdown",
   "id": "894f50d2-1be8-42e2-8827-07168dc7e5a8",
   "metadata": {},
   "outputs": [],
   "source": [
    "<h4>Overfitting</h4>\n",
    "<p>Overfitting occurs when the model fits the noise, but not the underlying process. Therefore, when testing your model using the test set, your model does not perform as well since it is modelling noise, not the underlying process that generated the relationship. Let's create a degree 5 polynomial model.</p>\n"
   ]
  },
  {
   "cell_type": "markdown",
   "id": "e0a248c9-c665-42ff-9e9a-f16ed021782c",
   "metadata": {},
   "outputs": [],
   "source": [
    "Let's use 55 percent of the data for training and the rest for testing:\n"
   ]
  },
  {
   "cell_type": "code",
   "id": "52188070-fd91-446b-8534-f00f081c618c",
   "metadata": {},
   "outputs": [],
   "source": [
    "x_train, x_test, y_train, y_test = train_test_split(x_data, y_data, test_size=0.45, random_state=0)"
   ]
  },
  {
   "cell_type": "markdown",
   "id": "a34672c4-647b-4968-835f-f6edfeac242e",
   "metadata": {},
   "outputs": [],
   "source": [
    "We will perform a degree 5 polynomial transformation on the feature <b>'horsepower'</b>. \n"
   ]
  },
  {
   "cell_type": "code",
   "id": "86b54564-b4a8-4ebc-ba60-a50bd7373c44",
   "metadata": {},
   "outputs": [],
   "source": [
    "pr = PolynomialFeatures(degree=5)\n",
    "x_train_pr = pr.fit_transform(x_train[['horsepower']])\n",
    "x_test_pr = pr.fit_transform(x_test[['horsepower']])\n",
    "pr"
   ]
  },
  {
   "cell_type": "markdown",
   "id": "b58381aa-bbee-4b19-b90c-8e221d3ef495",
   "metadata": {},
   "outputs": [],
   "source": [
    "Now, let's create a Linear Regression model \"poly\" and train it.\n"
   ]
  },
  {
   "cell_type": "code",
   "id": "78c4065b-afc4-4a22-a60d-f10d8bf19f40",
   "metadata": {},
   "outputs": [],
   "source": [
    "poly = LinearRegression()\n",
    "poly.fit(x_train_pr, y_train)"
   ]
  },
  {
   "cell_type": "markdown",
   "id": "f5204725-b4c8-40cf-b130-a89398c12fe6",
   "metadata": {},
   "outputs": [],
   "source": [
    "We can see the output of our model using the method \"predict.\" We assign the values to \"yhat\".\n"
   ]
  },
  {
   "cell_type": "code",
   "id": "9d7a5eec-31db-45cd-8032-f4c17fcd32ee",
   "metadata": {},
   "outputs": [],
   "source": [
    "yhat = poly.predict(x_test_pr)\n",
    "yhat[0:5]"
   ]
  },
  {
   "cell_type": "markdown",
   "id": "f4e5608d-c9ce-4ff9-9f19-f2518b29b51c",
   "metadata": {},
   "outputs": [],
   "source": [
    "Let's take the first five predicted values and compare it to the actual targets. \n"
   ]
  },
  {
   "cell_type": "code",
   "id": "33e66fb0-7f79-4309-804d-d5701c39b870",
   "metadata": {},
   "outputs": [],
   "source": [
    "print(\"Predicted values:\", yhat[0:4])\n",
    "print(\"True values:\", y_test[0:4].values)"
   ]
  },
  {
   "cell_type": "markdown",
   "id": "840844fa-7e17-4111-9ed2-dcd14ee845d3",
   "metadata": {},
   "outputs": [],
   "source": [
    "We will use the function \"PollyPlot\" that we defined at the beginning of the lab to display the training data, testing data, and the predicted function.\n"
   ]
  },
  {
   "cell_type": "code",
   "id": "18b6ebf0-dac4-4a29-9183-88bb85fece68",
   "metadata": {},
   "outputs": [],
   "source": [
    "PollyPlot(x_train['horsepower'], x_test['horsepower'], y_train, y_test, poly,pr)"
   ]
  },
  {
   "cell_type": "markdown",
   "id": "b2f72212-93fa-4a69-99fc-3dab005e79d4",
   "metadata": {},
   "outputs": [],
   "source": [
    "Figure 3: A polynomial regression model where red dots represent training data, green dots represent test data, and the blue line represents the model prediction. \n"
   ]
  },
  {
   "cell_type": "markdown",
   "id": "4a548311-8fb4-42f5-8e26-4033d995617f",
   "metadata": {},
   "outputs": [],
   "source": [
    "We see that the estimated function appears to track the data but around 200 horsepower, the function begins to diverge from the data points. \n"
   ]
  },
  {
   "cell_type": "markdown",
   "id": "5e1a9ce8-1662-4a86-9a06-e8a9f2c6fcbd",
   "metadata": {},
   "outputs": [],
   "source": [
    " R^2 of the training data:\n"
   ]
  },
  {
   "cell_type": "code",
   "id": "b7cea915-7142-4907-90e5-3179d979de26",
   "metadata": {},
   "outputs": [],
   "source": [
    "poly.score(x_train_pr, y_train)"
   ]
  },
  {
   "cell_type": "markdown",
   "id": "ab084bce-a3dc-4fbc-af67-5d990ee96395",
   "metadata": {},
   "outputs": [],
   "source": [
    " R^2 of the test data:\n"
   ]
  },
  {
   "cell_type": "code",
   "id": "3bf2877a-d061-4c7c-8bf6-afc7b6bd2341",
   "metadata": {},
   "outputs": [],
   "source": [
    "poly.score(x_test_pr, y_test)"
   ]
  },
  {
   "cell_type": "markdown",
   "id": "bb6ac4c6-ce47-4f37-bedf-be673faafea7",
   "metadata": {},
   "outputs": [],
   "source": [
    "We see the R^2 for the training data is 0.5567 while the R^2 on the test data was -29.87.  The lower the R^2, the worse the model. A negative R^2 is a sign of overfitting.\n"
   ]
  },
  {
   "cell_type": "markdown",
   "id": "8e12697a-ea5e-4744-b2c5-cedd5c2c079f",
   "metadata": {},
   "outputs": [],
   "source": [
    "Let's see how the R^2 changes on the test data for different order polynomials and then plot the results:\n"
   ]
  },
  {
   "cell_type": "code",
   "id": "0f287775-fba2-4d14-995e-26e90817c24e",
   "metadata": {},
   "outputs": [],
   "source": [
    "Rsqu_test = []\n",
    "\n",
    "order = [1, 2, 3, 4]\n",
    "for n in order:\n",
    "    pr = PolynomialFeatures(degree=n)\n",
    "    \n",
    "    x_train_pr = pr.fit_transform(x_train[['horsepower']])\n",
    "    \n",
    "    x_test_pr = pr.fit_transform(x_test[['horsepower']])    \n",
    "    \n",
    "    lr.fit(x_train_pr, y_train)\n",
    "    \n",
    "    Rsqu_test.append(lr.score(x_test_pr, y_test))\n",
    "\n",
    "plt.plot(order, Rsqu_test)\n",
    "plt.xlabel('order')\n",
    "plt.ylabel('R^2')\n",
    "plt.title('R^2 Using Test Data')\n",
    "plt.text(3, 0.75, 'Maximum R^2 ')    "
   ]
  },
  {
   "cell_type": "markdown",
   "id": "79ccdd46-025d-40fb-939f-0862cbb14e3d",
   "metadata": {},
   "outputs": [],
   "source": [
    "We see the R^2 gradually increases until an order three polynomial is used. Then, the R^2 dramatically decreases at an order four polynomial.\n"
   ]
  },
  {
   "cell_type": "markdown",
   "id": "934e6229-d0f4-4689-925e-24e732a068b5",
   "metadata": {},
   "outputs": [],
   "source": [
    "The following function will be used in the next section. Please run the cell below.\n"
   ]
  },
  {
   "cell_type": "code",
   "id": "d868d36d-e7d7-4f9b-bc4a-5f6433b020dc",
   "metadata": {},
   "outputs": [],
   "source": [
    "def f(order, test_data):\n",
    "    x_train, x_test, y_train, y_test = train_test_split(x_data, y_data, test_size=test_data, random_state=0)\n",
    "    pr = PolynomialFeatures(degree=order)\n",
    "    x_train_pr = pr.fit_transform(x_train[['horsepower']])\n",
    "    x_test_pr = pr.fit_transform(x_test[['horsepower']])\n",
    "    poly = LinearRegression()\n",
    "    poly.fit(x_train_pr,y_train)\n",
    "    PollyPlot(x_train['horsepower'], x_test['horsepower'], y_train,y_test, poly, pr)"
   ]
  },
  {
   "cell_type": "markdown",
   "id": "ef44da5a-eb14-4dc6-a848-3d5687b16687",
   "metadata": {},
   "outputs": [],
   "source": [
    "The following interface allows you to experiment with different polynomial orders and different amounts of data. \n"
   ]
  },
  {
   "cell_type": "code",
   "id": "6c022788-6e47-402a-b6a5-449581ddb28b",
   "metadata": {},
   "outputs": [],
   "source": [
    "interact(f, order=(0, 6, 1), test_data=(0.05, 0.95, 0.05))"
   ]
  },
  {
   "cell_type": "markdown",
   "id": "5eed13ca-646a-4eb7-87aa-013e0fee0186",
   "metadata": {},
   "outputs": [],
   "source": [
    "<div class=\"alert alert-danger alertdanger\" style=\"margin-top: 20px\">\n",
    "<h1> Question  #4a):</h1>\n",
    "\n",
    "<b>We can perform polynomial transformations with more than one feature. Create a \"PolynomialFeatures\" object \"pr1\" of degree two.</b>\n",
    "</div>\n"
   ]
  },
  {
   "cell_type": "code",
   "id": "973bf9ab-9d4e-444b-a041-df8abffd2533",
   "metadata": {},
   "outputs": [],
   "source": [
    "# Write your code below and press Shift+Enter to execute \n"
   ]
  },
  {
   "cell_type": "markdown",
   "id": "a13d2b9d-1303-4e76-99a0-985d1ee7ac5e",
   "metadata": {},
   "outputs": [],
   "source": [
    "<details><summary>Click here for the solution</summary>\n",
    "\n",
    "```python\n",
    "pr1=PolynomialFeatures(degree=2)\n",
    "\n",
    "```\n",
    "\n",
    "</details>\n"
   ]
  },
  {
   "cell_type": "markdown",
   "id": "301dc8db-4fbb-4ada-aeba-8ac742d7a6b8",
   "metadata": {},
   "outputs": [],
   "source": [
    "<div class=\"alert alert-danger alertdanger\" style=\"margin-top: 20px\">\n",
    "<h1> Question  #4b): </h1>\n",
    "\n",
    "<b> \n",
    " Transform the training and testing samples for the features 'horsepower', 'curb-weight', 'engine-size' and 'highway-mpg'. Hint: use the method \"fit_transform\".</b>\n",
    "</div>\n"
   ]
  },
  {
   "cell_type": "code",
   "id": "1d9cc4b7-a149-4442-b87f-215a80acadb6",
   "metadata": {},
   "outputs": [],
   "source": [
    "# Write your code below and press Shift+Enter to execute \n"
   ]
  },
  {
   "cell_type": "markdown",
   "id": "ec2b43ef-5809-4876-af49-7d0284e832a2",
   "metadata": {},
   "outputs": [],
   "source": [
    "<details><summary>Click here for the solution</summary>\n",
    "\n",
    "```python\n",
    "x_train_pr1=pr1.fit_transform(x_train[['horsepower', 'curb-weight', 'engine-size', 'highway-mpg']])\n",
    "\n",
    "x_test_pr1=pr1.fit_transform(x_test[['horsepower', 'curb-weight', 'engine-size', 'highway-mpg']])\n",
    "\n",
    "\n",
    "```\n",
    "\n",
    "</details>\n"
   ]
  },
  {
   "cell_type": "markdown",
   "id": "29071091-7544-4f75-a37a-190c914d3335",
   "metadata": {},
   "outputs": [],
   "source": [
    "<!-- The answer is below:\n",
    "\n",
    "x_train_pr1=pr.fit_transform(x_train[['horsepower', 'curb-weight', 'engine-size', 'highway-mpg']])\n",
    "x_test_pr1=pr.fit_transform(x_test[['horsepower', 'curb-weight', 'engine-size', 'highway-mpg']])\n",
    "\n",
    "-->\n"
   ]
  },
  {
   "cell_type": "markdown",
   "id": "1e802ff6-bcc1-4fc6-a1b3-dc8446536b0e",
   "metadata": {},
   "outputs": [],
   "source": [
    "<div class=\"alert alert-danger alertdanger\" style=\"margin-top: 20px\">\n",
    "<h1> Question  #4c): </h1>\n",
    "<b> \n",
    "How many dimensions does the new feature have? Hint: use the attribute \"shape\".\n",
    "</b>\n",
    "</div>\n"
   ]
  },
  {
   "cell_type": "code",
   "id": "63078935-6536-4251-a299-0d73e6a0b644",
   "metadata": {},
   "outputs": [],
   "source": [
    "# Write your code below and press Shift+Enter to execute \n"
   ]
  },
  {
   "cell_type": "markdown",
   "id": "16e890af-d057-42bc-b94d-e8929004bfea",
   "metadata": {},
   "outputs": [],
   "source": [
    "<details><summary>Click here for the solution</summary>\n",
    "\n",
    "```python\n",
    "x_train_pr1.shape #there are now 15 features\n",
    "\n",
    "\n",
    "```\n",
    "\n",
    "</details>\n"
   ]
  },
  {
   "cell_type": "markdown",
   "id": "d5da1cde-18bb-4a66-93ab-6b16aea3bacb",
   "metadata": {},
   "outputs": [],
   "source": [
    "<div class=\"alert alert-danger alertdanger\" style=\"margin-top: 20px\">\n",
    "<h1> Question  #4d): </h1>\n",
    "\n",
    "<b> \n",
    "Create a linear regression model \"poly1\". Train the object using the method \"fit\" using the polynomial features.</b>\n",
    "</div>\n"
   ]
  },
  {
   "cell_type": "code",
   "id": "7ecda69d-5ac2-4fc3-9338-4a33e6a0554e",
   "metadata": {},
   "outputs": [],
   "source": [
    "# Write your code below and press Shift+Enter to execute \n"
   ]
  },
  {
   "cell_type": "markdown",
   "id": "7ba372ea-e82e-4a0a-83d4-b62119698699",
   "metadata": {},
   "outputs": [],
   "source": [
    "<details><summary>Click here for the solution</summary>\n",
    "\n",
    "```python\n",
    "poly1=LinearRegression().fit(x_train_pr1,y_train)\n",
    "\n",
    "\n",
    "```\n",
    "\n",
    "</details>\n"
   ]
  },
  {
   "cell_type": "markdown",
   "id": "f9849ad0-aba3-4902-8546-0fe749f94fa8",
   "metadata": {},
   "outputs": [],
   "source": [
    " <div class=\"alert alert-danger alertdanger\" style=\"margin-top: 20px\">\n",
    "<h1> Question  #4e): </h1>\n",
    "<b>Use the method  \"predict\" to predict an output on the polynomial features, then use the function \"DistributionPlot\" to display the distribution of the predicted test output vs. the actual test data.</b>\n",
    "</div>\n"
   ]
  },
  {
   "cell_type": "code",
   "id": "bcd00edf-2d1a-461b-94f8-2865a4f8d153",
   "metadata": {},
   "outputs": [],
   "source": [
    "# Write your code below and press Shift+Enter to execute \n"
   ]
  },
  {
   "cell_type": "markdown",
   "id": "99e32bcf-b8d5-438b-a41a-ee0353ccb38c",
   "metadata": {},
   "outputs": [],
   "source": [
    "<details><summary>Click here for the solution</summary>\n",
    "\n",
    "```python\n",
    "yhat_test1=poly1.predict(x_test_pr1)\n",
    "\n",
    "Title='Distribution  Plot of  Predicted Value Using Test Data vs Data Distribution of Test Data'\n",
    "\n",
    "DistributionPlot(y_test, yhat_test1, \"Actual Values (Test)\", \"Predicted Values (Test)\", Title)\n",
    "\n",
    "```\n",
    "\n",
    "</details>\n"
   ]
  },
  {
   "cell_type": "markdown",
   "id": "f5936133-f675-448e-8ed9-9fe731186b9d",
   "metadata": {},
   "outputs": [],
   "source": [
    "<div class=\"alert alert-danger alertdanger\" style=\"margin-top: 20px\">\n",
    "<h1> Question  #4f): </h1>\n",
    "\n",
    "<b>Using the distribution plot above, describe (in words) the two regions where the predicted prices are less accurate than the actual prices.</b>\n",
    "</div>\n"
   ]
  },
  {
   "cell_type": "code",
   "id": "57b00b8a-53e7-4817-a8e2-dca3363a0155",
   "metadata": {},
   "outputs": [],
   "source": [
    "# Write your code below and press Shift+Enter to execute \n"
   ]
  },
  {
   "cell_type": "markdown",
   "id": "c25b48df-6e1b-4bd8-b7b5-9dbf5ce57e08",
   "metadata": {},
   "outputs": [],
   "source": [
    "<details><summary>Click here for the solution</summary>\n",
    "\n",
    "```python\n",
    "#The predicted value is higher than actual value for cars where the price $10,000 range, conversely the predicted price is lower than the price cost in the $30,000 to $40,000 range. As such the model is not as accurate in these ranges.\n",
    "\n",
    "```\n",
    "\n",
    "</details>\n",
    "\n"
   ]
  },
  {
   "cell_type": "markdown",
   "id": "5617cf26-c935-47ac-8957-de47dd1c94e6",
   "metadata": {},
   "outputs": [],
   "source": [
    "<h2 id=\"ref3\">Part 3: Ridge Regression</h2> \n"
   ]
  },
  {
   "cell_type": "markdown",
   "id": "805f1e75-a30c-45f4-90d7-365d48b66654",
   "metadata": {},
   "outputs": [],
   "source": [
    " In this section, we will review Ridge Regression and see how the parameter alpha changes the model. Just a note, here our test data will be used as validation data.\n"
   ]
  },
  {
   "cell_type": "markdown",
   "id": "c0738fdc-6789-413b-9d24-dfb9d5837026",
   "metadata": {},
   "outputs": [],
   "source": [
    " Let's perform a degree two polynomial transformation on our data. \n"
   ]
  },
  {
   "cell_type": "code",
   "id": "7a7f3fd2-7702-4af2-9a67-ade2c6073be6",
   "metadata": {},
   "outputs": [],
   "source": [
    "pr=PolynomialFeatures(degree=2)\n",
    "x_train_pr=pr.fit_transform(x_train[['horsepower', 'curb-weight', 'engine-size', 'highway-mpg','normalized-losses','symboling']])\n",
    "x_test_pr=pr.fit_transform(x_test[['horsepower', 'curb-weight', 'engine-size', 'highway-mpg','normalized-losses','symboling']])"
   ]
  },
  {
   "cell_type": "markdown",
   "id": "7d8a9d16-8676-462c-a834-61e9da84ba09",
   "metadata": {},
   "outputs": [],
   "source": [
    " Let's import  <b>Ridge</b>  from the module <b>linear models</b>.\n"
   ]
  },
  {
   "cell_type": "code",
   "id": "ea941924-fe24-41ec-897a-4905eb40c45a",
   "metadata": {},
   "outputs": [],
   "source": [
    "from sklearn.linear_model import Ridge"
   ]
  },
  {
   "cell_type": "markdown",
   "id": "561dea2a-d0b9-4550-90fe-f0e36e19357c",
   "metadata": {},
   "outputs": [],
   "source": [
    "Let's create a Ridge regression object, setting the regularization parameter (alpha) to 0.1 \n"
   ]
  },
  {
   "cell_type": "code",
   "id": "07c1feee-ef68-4b4d-a5ef-44a84cd75bba",
   "metadata": {},
   "outputs": [],
   "source": [
    "RigeModel=Ridge(alpha=1)"
   ]
  },
  {
   "cell_type": "markdown",
   "id": "01a1d2fe-7525-49c3-bc91-3ded1d6e260d",
   "metadata": {},
   "outputs": [],
   "source": [
    "Like regular regression, you can fit the model using the method <b>fit</b>.\n"
   ]
  },
  {
   "cell_type": "code",
   "id": "924cc9d4-76d9-4668-8fa5-7ddfa842c8c6",
   "metadata": {},
   "outputs": [],
   "source": [
    "RigeModel.fit(x_train_pr, y_train)"
   ]
  },
  {
   "cell_type": "markdown",
   "id": "1301586f-062f-4371-a324-51df378c890a",
   "metadata": {},
   "outputs": [],
   "source": [
    " Similarly, you can obtain a prediction: \n"
   ]
  },
  {
   "cell_type": "code",
   "id": "4c275fc6-f12f-46c7-8e2d-e44a352daeb8",
   "metadata": {},
   "outputs": [],
   "source": [
    "yhat = RigeModel.predict(x_test_pr)"
   ]
  },
  {
   "cell_type": "markdown",
   "id": "d6cbf854-255a-4660-848c-73f6a1a25fbc",
   "metadata": {},
   "outputs": [],
   "source": [
    "Let's compare the first five predicted samples to our test set: \n"
   ]
  },
  {
   "cell_type": "code",
   "id": "8431ecf3-edc8-4a27-b00f-36410484941d",
   "metadata": {},
   "outputs": [],
   "source": [
    "print('predicted:', yhat[0:4])\n",
    "print('test set :', y_test[0:4].values)"
   ]
  },
  {
   "cell_type": "markdown",
   "id": "13873daf-eb82-41ab-b00b-f31b175f2ca9",
   "metadata": {},
   "outputs": [],
   "source": [
    "We select the value of alpha that minimizes the test error. To do so, we can use a for loop. We have also created a progress bar to see how many iterations we have completed so far.\n"
   ]
  },
  {
   "cell_type": "code",
   "id": "2a55ef19-7f77-45f4-99e8-1be0222e4b33",
   "metadata": {},
   "outputs": [],
   "source": [
    "from tqdm import tqdm\n",
    "\n",
    "Rsqu_test = []\n",
    "Rsqu_train = []\n",
    "dummy1 = []\n",
    "Alpha = 10 * np.array(range(0,1000))\n",
    "pbar = tqdm(Alpha)\n",
    "\n",
    "for alpha in pbar:\n",
    "    RigeModel = Ridge(alpha=alpha) \n",
    "    RigeModel.fit(x_train_pr, y_train)\n",
    "    test_score, train_score = RigeModel.score(x_test_pr, y_test), RigeModel.score(x_train_pr, y_train)\n",
    "    \n",
    "    pbar.set_postfix({\"Test Score\": test_score, \"Train Score\": train_score})\n",
    "\n",
    "    Rsqu_test.append(test_score)\n",
    "    Rsqu_train.append(train_score)"
   ]
  },
  {
   "cell_type": "markdown",
   "id": "c30df901-c4ea-4bd5-96dc-68be4a86f40f",
   "metadata": {},
   "outputs": [],
   "source": [
    "We can plot out the value of R^2 for different alphas: \n"
   ]
  },
  {
   "cell_type": "code",
   "id": "0ff98c8a-8cdf-4431-a216-9fd7b16fa31d",
   "metadata": {},
   "outputs": [],
   "source": [
    "width = 12\n",
    "height = 10\n",
    "plt.figure(figsize=(width, height))\n",
    "\n",
    "plt.plot(Alpha,Rsqu_test, label='validation data  ')\n",
    "plt.plot(Alpha,Rsqu_train, 'r', label='training Data ')\n",
    "plt.xlabel('alpha')\n",
    "plt.ylabel('R^2')\n",
    "plt.legend()"
   ]
  },
  {
   "cell_type": "markdown",
   "id": "76cdcf9b-a758-44ef-bc8e-7add76d94cce",
   "metadata": {},
   "outputs": [],
   "source": [
    "**Figure 4**: The blue line represents the R^2 of the validation data, and the red line represents the R^2 of the training data. The x-axis represents the different values of Alpha. \n"
   ]
  },
  {
   "cell_type": "markdown",
   "id": "b3920720-0912-44be-8049-45a08678b20a",
   "metadata": {},
   "outputs": [],
   "source": [
    "Here the model is built and tested on the same data, so the training and test data are the same.\n",
    "\n",
    "The red line in Figure 4 represents the R^2 of the training data. As alpha increases the R^2 decreases. Therefore, as alpha increases, the model performs worse on the training data\n",
    "\n",
    "The blue line represents the R^2 on the validation data. As the value for alpha increases, the R^2 increases and converges at a point.\n"
   ]
  },
  {
   "cell_type": "markdown",
   "id": "c3a7b10a-1c76-4ae8-b67a-061b5a3e3987",
   "metadata": {},
   "outputs": [],
   "source": [
    "<div class=\"alert alert-danger alertdanger\" style=\"margin-top: 20px\">\n",
    "<h1> Question  #5): </h1>\n",
    "\n",
    "Perform Ridge regression. Calculate the R^2 using the polynomial features, use the training data to train the model and use the test data to test the model. The parameter alpha should be set to 10.\n",
    "</div>\n"
   ]
  },
  {
   "cell_type": "code",
   "id": "ab6717ed-20ce-4cfc-b8bd-6fb013f401c6",
   "metadata": {},
   "outputs": [],
   "source": [
    "# Write your code below and press Shift+Enter to execute \n"
   ]
  },
  {
   "cell_type": "markdown",
   "id": "13a6e447-c8c3-44e1-8e5d-c6cf8a78d08a",
   "metadata": {},
   "outputs": [],
   "source": [
    "<details><summary>Click here for the solution</summary>\n",
    "\n",
    "```python\n",
    "RigeModel = Ridge(alpha=10) \n",
    "RigeModel.fit(x_train_pr, y_train)\n",
    "RigeModel.score(x_test_pr, y_test)\n",
    "\n",
    "```\n",
    "\n",
    "</details>\n",
    "\n"
   ]
  },
  {
   "cell_type": "markdown",
   "id": "275a59c4-90a6-429e-9be1-64d82c11c331",
   "metadata": {},
   "outputs": [],
   "source": [
    "<h2 id=\"ref4\">Part 4: Grid Search</h2>\n"
   ]
  },
  {
   "cell_type": "markdown",
   "id": "de5f36bb-ab97-41d7-8e1f-becbd62708e8",
   "metadata": {},
   "outputs": [],
   "source": [
    "The term alpha is a hyperparameter. Sklearn has the class <b>GridSearchCV</b> to make the process of finding the best hyperparameter simpler.\n"
   ]
  },
  {
   "cell_type": "markdown",
   "id": "4b5a8bd4-d496-470d-9f13-a2fd2f4a44a2",
   "metadata": {},
   "outputs": [],
   "source": [
    "Let's import <b>GridSearchCV</b> from  the module <b>model_selection</b>.\n"
   ]
  },
  {
   "cell_type": "code",
   "id": "cd91d89b-efba-42f4-96de-41a2a1b44bbc",
   "metadata": {},
   "outputs": [],
   "source": [
    "from sklearn.model_selection import GridSearchCV"
   ]
  },
  {
   "cell_type": "markdown",
   "id": "b203decb-e1b0-4098-a3a6-635520f592d3",
   "metadata": {},
   "outputs": [],
   "source": [
    "We create a dictionary of parameter values:\n"
   ]
  },
  {
   "cell_type": "code",
   "id": "66a5d357-9143-4ad7-8b29-464195b3db6a",
   "metadata": {},
   "outputs": [],
   "source": [
    "parameters1= [{'alpha': [0.001,0.1,1, 10, 100, 1000, 10000, 100000, 100000]}]\n",
    "parameters1"
   ]
  },
  {
   "cell_type": "markdown",
   "id": "7046a3af-26a7-45d7-beea-1d80a60e1027",
   "metadata": {},
   "outputs": [],
   "source": [
    "Create a Ridge regression object:\n"
   ]
  },
  {
   "cell_type": "code",
   "id": "f20ae851-f394-4440-bdfa-9d5a11d9c388",
   "metadata": {},
   "outputs": [],
   "source": [
    "RR=Ridge()\n",
    "RR"
   ]
  },
  {
   "cell_type": "markdown",
   "id": "bd7b7ba5-d3bb-444c-990e-23453f2162fe",
   "metadata": {},
   "outputs": [],
   "source": [
    "Create a ridge grid search object:\n"
   ]
  },
  {
   "cell_type": "code",
   "id": "fb5428a8-e8e5-415f-a663-f4b546c37ea2",
   "metadata": {},
   "outputs": [],
   "source": [
    "Grid1 = GridSearchCV(RR, parameters1,cv=4, iid=None)"
   ]
  },
  {
   "cell_type": "markdown",
   "id": "42ff11b6-90e6-42be-adc1-4c2a54c09af1",
   "metadata": {},
   "outputs": [],
   "source": [
    "In order to avoid a deprecation warning due to the iid parameter, we set the value of iid to \"None\".\n",
    "\n",
    "Fit the model:\n"
   ]
  },
  {
   "cell_type": "code",
   "id": "c6fbd92e-7be6-45eb-9666-cf8c6a438728",
   "metadata": {},
   "outputs": [],
   "source": [
    "Grid1.fit(x_data[['horsepower', 'curb-weight', 'engine-size', 'highway-mpg']], y_data)"
   ]
  },
  {
   "cell_type": "markdown",
   "id": "8d1606f8-3f8d-48ec-9eaa-fab7c7dd01c3",
   "metadata": {},
   "outputs": [],
   "source": [
    "The object finds the best parameter values on the validation data. We can obtain the estimator with the best parameters and assign it to the variable BestRR as follows:\n"
   ]
  },
  {
   "cell_type": "code",
   "id": "ff90a3a3-bc53-44c4-af91-acfb2ec20da6",
   "metadata": {},
   "outputs": [],
   "source": [
    "BestRR=Grid1.best_estimator_\n",
    "BestRR"
   ]
  },
  {
   "cell_type": "markdown",
   "id": "352abc70-8fb6-4042-a54e-7fd9ddaa38bd",
   "metadata": {},
   "outputs": [],
   "source": [
    " We now test our model on the test data:\n"
   ]
  },
  {
   "cell_type": "code",
   "id": "90f354ff-f4a4-4a82-bae2-cbe32dc23e38",
   "metadata": {},
   "outputs": [],
   "source": [
    "BestRR.score(x_test[['horsepower', 'curb-weight', 'engine-size', 'highway-mpg']], y_test)"
   ]
  },
  {
   "cell_type": "markdown",
   "id": "c68de93a-8675-4755-a90b-19898b2883a3",
   "metadata": {},
   "outputs": [],
   "source": [
    "<div class=\"alert alert-danger alertdanger\" style=\"margin-top: 20px\">\n",
    "<h1> Question  #6): </h1>\n",
    "Perform a grid search for the alpha parameter and the normalization parameter, then find the best values of the parameters:\n",
    "</div>\n"
   ]
  },
  {
   "cell_type": "code",
   "id": "59a875bc-7e0c-4a62-924c-33c019a8ca50",
   "metadata": {},
   "outputs": [],
   "source": [
    "# Write your code below and press Shift+Enter to execute \n"
   ]
  },
  {
   "cell_type": "markdown",
   "id": "9cd580c2-df1b-492a-9cb2-c8fcb3274075",
   "metadata": {},
   "outputs": [],
   "source": [
    "<details><summary>Click here for the solution</summary>\n",
    "\n",
    "```python\n",
    "parameters2= [{'alpha': [0.001,0.1,1, 10, 100, 1000,10000,100000,100000],'normalize':[True,False]} ]\n",
    "Grid2 = GridSearchCV(Ridge(), parameters2,cv=4)\n",
    "Grid2.fit(x_data[['horsepower', 'curb-weight', 'engine-size', 'highway-mpg']],y_data)\n",
    "Grid2.best_estimator_\n",
    "\n",
    "\n",
    "```\n",
    "\n",
    "</details>\n",
    "\n"
   ]
  }
 ],
 "metadata": {
  "kernelspec": {
   "display_name": "Python",
   "language": "python",
   "name": "conda-env-python-py"
  },
  "language_info": {
   "name": ""
  }
 },
 "nbformat": 4,
 "nbformat_minor": 4
}
