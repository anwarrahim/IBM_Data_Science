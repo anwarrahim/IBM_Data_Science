{
 "metadata": {
  "language_info": {
   "codemirror_mode": {
    "name": "python",
    "version": 3
   },
   "file_extension": ".py",
   "mimetype": "text/x-python",
   "name": "python",
   "nbconvert_exporter": "python",
   "pygments_lexer": "ipython3",
   "version": "3.8"
  },
  "kernelspec": {
   "name": "python",
   "display_name": "Pyolite",
   "language": "python"
  }
 },
 "nbformat_minor": 4,
 "nbformat": 4,
 "cells": [
  {
   "cell_type": "markdown",
   "source": [
    "# Plotting directly with Matplotlib\n",
    "\n",
    "Estimated time needed: **45** minutes\n",
    "\n",
    "## Objectives\n",
    "\n",
    "After completing this lab you will be able to:\n",
    "\n",
    "*   Create and customize basic plots directly with Matplotlib on dataset\n"
   ],
   "metadata": {}
  },
  {
   "cell_type": "markdown",
   "source": [
    "## Table of Contents\n",
    "\n",
    "<div class=\"alert alert-block alert-info\" style=\"margin-top: 20px\">\n",
    "\n",
    "1.  [Import Libraries](#0)<br>\n",
    "2.  [Fetching Data](#1) <br>\n",
    "3.  [Line Plot](#6) <br>\n",
    "4.  [Scatter Plot](#8) <br>\n",
    "5.  [Bar Plot](#10) <br>\n",
    "6.  [Histogram](#12) <br>\n",
    "7.  [Pie](#14) <br>\n",
    "8.  [Subplotting](#16) <br>\n",
    "</div>\n"
   ],
   "metadata": {}
  },
  {
   "cell_type": "markdown",
   "source": [
    "# Import Libraries<a id=\"0\"></a>\n"
   ],
   "metadata": {}
  },
  {
   "cell_type": "markdown",
   "source": [
    "Import the `matplotlib` library.\n"
   ],
   "metadata": {}
  },
  {
   "cell_type": "code",
   "source": [
    "#Import Primary Modules:\n",
    "import numpy as np  # useful for many scientific computing in Python\n",
    "import pandas as pd # primary data structure library\n",
    "\n",
    "# use the inline backend to generate the plots within the browser\n",
    "%matplotlib inline\n",
    "\n",
    "\n",
    "import matplotlib as mpl\n",
    "import matplotlib.pyplot as plt\n",
    "\n",
    "# check for latest version of Matplotlib\n",
    "print('Matplotlib version: ', mpl.__version__) # >= 2.0.0"
   ],
   "metadata": {},
   "execution_count": null,
   "outputs": []
  },
  {
   "cell_type": "markdown",
   "source": [
    "# Fetching Data<a id=\"1\"></a>\n",
    "\n",
    "Dataset: Immigration to Canada from 1980 to 2013 - [International migration flows to and from selected countries - The 2015 revision](https://www.un.org/development/desa/pd/data/international-migration-flows) from United Nation's website.<br>\n",
    "In this lab, we will focus on the Canadian Immigration data and use the *already cleaned dataset* and can be fetched from <a href=\"https://cf-courses-data.s3.us.cloud-object-storage.appdomain.cloud/IBMDeveloperSkillsNetwork-DV0101EN-SkillsNetwork/Data%20Files/Canada.csv\">here</a>.\n",
    "<br><br>\n",
    "You can refer to the lab on data pre-processing wherein this dataset is cleaned for a quick refresh your Panads skill [Data pre-processing with Pandas](https://cf-courses-data.s3.us.cloud-object-storage.appdomain.cloud/IBMDeveloperSkillsNetwork-DV0101EN-SkillsNetwork/labs/june2023_updates/Module%201/DV0101EN-Exercise-Dataset-Preprocessing-Exploring-with-Pandas.ipynb)\n"
   ],
   "metadata": {}
  },
  {
   "cell_type": "code",
   "source": [
    "from js import fetch\n",
    "import io\n",
    "\n",
    "URL = \"https://cf-courses-data.s3.us.cloud-object-storage.appdomain.cloud/IBMDeveloperSkillsNetwork-DV0101EN-SkillsNetwork/Data%20Files/Canada.csv\"\n",
    "resp = await fetch(URL)\n",
    "\n",
    "text = io.BytesIO((await resp.arrayBuffer()).to_py())\n",
    "df_can = pd.read_csv(text)\n",
    "print('Data read into a pandas dataframe!')"
   ],
   "metadata": {},
   "execution_count": null,
   "outputs": []
  },
  {
   "cell_type": "markdown",
   "source": [
    "Let's take a look at the first five items in our dataset.\n"
   ],
   "metadata": {}
  },
  {
   "cell_type": "code",
   "source": [
    "df_can.head()\n"
   ],
   "metadata": {},
   "execution_count": null,
   "outputs": []
  },
  {
   "cell_type": "markdown",
   "source": [
    "Let's find out how many entries there are in our dataset.\n"
   ],
   "metadata": {}
  },
  {
   "cell_type": "code",
   "source": [
    "# print the dimensions of the dataframe\n",
    "\n",
    "print(df_can.shape)"
   ],
   "metadata": {},
   "execution_count": null,
   "outputs": []
  },
  {
   "cell_type": "markdown",
   "source": [
    "Set the country name as index - useful for quickly looking up countries using .loc method.\n"
   ],
   "metadata": {}
  },
  {
   "cell_type": "code",
   "source": [
    "df_can.set_index('Country', inplace=True)\n",
    "# Let's view the first five elements and see how the dataframe was changed\n",
    "df_can.head()"
   ],
   "metadata": {},
   "execution_count": null,
   "outputs": []
  },
  {
   "cell_type": "markdown",
   "source": [
    "Notice now the country names now serve as indices.\n"
   ],
   "metadata": {}
  },
  {
   "cell_type": "code",
   "source": [
    "print('data dimensions:', df_can.shape)"
   ],
   "metadata": {},
   "execution_count": null,
   "outputs": []
  },
  {
   "cell_type": "code",
   "source": [
    "# finally, let's create a list of years from 1980 - 2013\n",
    "# this will come in handy when we start plotting the data\n",
    "years = list(map(str, range(1980, 2014)))\n",
    "\n",
    "#years = np.arange(1980,2014)"
   ],
   "metadata": {},
   "execution_count": null,
   "outputs": []
  },
  {
   "cell_type": "markdown",
   "source": [
    "# Line Plot<a id=\"6\"></a>\n"
   ],
   "metadata": {}
  },
  {
   "cell_type": "markdown",
   "source": [
    "A line plot displays the relationship between two continuous variables over a continuous interval, showing the trend or pattern of the data.<br><br>Let's created a line plot to visualize the immigrants (to Canada) trend during 1980 to 2013.<br>We need the Total of year-wise immigrants,<br><br>We will create a new dataframe for only columns containing the years<br> then, we will apply sum() on the dataframe<br><br>You can do create a line plot directly on **axes** by calling plot function **plot()**\n"
   ],
   "metadata": {}
  },
  {
   "cell_type": "code",
   "source": [
    "#As years is in the array format, you will be required to map it to str for plotting\n",
    "#y=list(map(str, years))\n",
    "#creating df with only years columns from 1980 - 2013\n",
    "df_line=df_can[years]\n",
    "#Applying sum to get total immigrants year-wise\n",
    "total_immigrants=df_line.sum()\n",
    "total_immigrants"
   ],
   "metadata": {},
   "execution_count": null,
   "outputs": []
  },
  {
   "cell_type": "code",
   "source": [
    "#Create figure and axes\n",
    "fig, ax = plt.subplots()\n",
    "# Plot the line\n",
    "\n",
    "ax.plot(total_immigrants)\n",
    "\n",
    "#Setting up the Title\n",
    "ax.set_title('Immigrants between 1980 to 2013') \n",
    "#Setting up the Labels\n",
    "ax.set_xlabel('Years')\n",
    "ax.set_ylabel('Total Immigrants')\n",
    "\n",
    "#Display the plot\n",
    "plt.show()"
   ],
   "metadata": {},
   "execution_count": null,
   "outputs": []
  },
  {
   "cell_type": "markdown",
   "source": [
    "#### The plot function populated the x-axis with the index values (years), and the y-axis with the column values (population). <br>However, notice how the years were not displayed because they are of type string.<br> <br>Therefore, let's change the type of the index values to integer for plotting.\n"
   ],
   "metadata": {}
  },
  {
   "cell_type": "code",
   "source": [
    "#Create figure and axes\n",
    "fig, ax = plt.subplots()\n",
    "\n",
    "#Changing the index type to integer\n",
    "total_immigrants.index = total_immigrants.index.map(int)\n",
    "\n",
    "# Plot the line\n",
    "ax.plot(total_immigrants)\n",
    "\n",
    "#Setting up the Title\n",
    "ax.set_title('Immigrants between 1980 to 2013') \n",
    "\n",
    "#Setting up the Labels\n",
    "ax.set_xlabel('Years')\n",
    "ax.set_ylabel('Total Immigrants')\n",
    "\n",
    "#Display the plot\n",
    "plt.show()"
   ],
   "metadata": {},
   "execution_count": null,
   "outputs": []
  },
  {
   "cell_type": "markdown",
   "source": [
    "#### Let's now customize the above plot's appearance \n"
   ],
   "metadata": {}
  },
  {
   "cell_type": "code",
   "source": [
    "#Create figure and axes\n",
    "fig, ax = plt.subplots()\n",
    "\n",
    "#Changing the index type to integer\n",
    "total_immigrants.index = total_immigrants.index.map(int)\n",
    "\n",
    "# Customizing the appearance of Plot\n",
    "ax.plot(total_immigrants, \n",
    "        marker='s', #Including markers in squares shapes\n",
    "        markersize=5, #Setting the size of the marker\n",
    "        color='green', #Changing the color of the line\n",
    "        linestyle=\"dotted\") #Changing the line style to a Dotted line\n",
    "#Setting up the Title\n",
    "ax.set_title('Immigrants between 1980 to 2013') \n",
    "\n",
    "#Setting up the Labels\n",
    "ax.set_xlabel('Years')\n",
    "ax.set_ylabel('Total Immigrants')\n",
    "ax.legend(['Immigrants'])\n",
    "\n",
    "plt.show()"
   ],
   "metadata": {},
   "execution_count": null,
   "outputs": []
  },
  {
   "cell_type": "markdown",
   "source": [
    "#### Let's include the background grid, a legend and try to change the limits on the axis\n"
   ],
   "metadata": {}
  },
  {
   "cell_type": "code",
   "source": [
    "#Create figure and axes\n",
    "fig, ax = plt.subplots()\n",
    "\n",
    "# Plot the line\n",
    "ax.plot(total_immigrants, \n",
    "        marker='s', #Including markers in squares shapes\n",
    "        markersize=5, #Setting the size of the marker\n",
    "        color='green', #Changing the color of the line\n",
    "        linestyle=\"dotted\") #Changing the line style to a Dotted line\n",
    "\n",
    "#Setting up the Title\n",
    "ax.set_title('Immigrants between 1980 to 2013') \n",
    "\n",
    "#Setting up the Labels\n",
    "ax.set_xlabel('Years')\n",
    "ax.set_ylabel('Total Immigrants')\n",
    "\n",
    "#limits on x-axis\n",
    "plt.xlim(1975, 2015)  #or ax.set_xlim()\n",
    "\n",
    "#Enabling Grid\n",
    "plt.grid(True)  #or ax.grid()\n",
    "\n",
    "#Legend\n",
    "plt.legend([\"Immigrants\"]) #or ax.legend()\n",
    "\n",
    "#Display the plot\n",
    "plt.show()"
   ],
   "metadata": {},
   "execution_count": null,
   "outputs": []
  },
  {
   "cell_type": "markdown",
   "source": [
    "Let's start with a case study:\n",
    "\n",
    "In 2010, Haiti suffered a catastrophic magnitude 7.0 earthquake. The quake caused widespread devastation and loss of life and aout three million people were affected by this natural disaster. As part of Canada's humanitarian effort, the Government of Canada stepped up its effort in accepting refugees from Haiti. We can quickly visualize this effort using a Line plot:\n",
    "\n",
    "### Question: Plot a line graph of immigration from Haiti \n"
   ],
   "metadata": {}
  },
  {
   "cell_type": "markdown",
   "source": [
    "You be required to create a dataframe where the name of the 'Country' is equal to 'Haiti' and years from 1980 - 2013<br> Also you will be required to transpose the new dataframe in to a series for plotting<br>Might also have to change the type of index of the series to integer for a better look of the plot<br> Then create fig and ax and call function plot() on the data.\n"
   ],
   "metadata": {}
  },
  {
   "cell_type": "markdown",
   "source": [
    "<details><summary>Click here for a sample python solution</summary>\n",
    "\n",
    "```python\n",
    "    #Creating data for plotting\n",
    "    df_can.reset_index(inplace=True)\n",
    "    haiti=df_can[df_can['Country']=='Haiti']\n",
    "\n",
    "    #creating haiti with only years columns from 1980 - 2013 \n",
    "    #and transposing to get the result as a series\n",
    "    haiti=haiti[years].T\n",
    "\n",
    "    #converting the index to type integer\n",
    "    haiti.index = haiti.index.map(int)\n",
    "    \n",
    "    #Plotting the line plot on the data\n",
    "    fig, ax = plt.subplots()\n",
    "    ax.plot(haiti)\n",
    "    #Setting up the Title\n",
    "    ax.set_title('Immigrants from Haiti between 1980 to 2013') \n",
    "    #Setting up the Labels\n",
    "    ax.set_xlabel('Years')\n",
    "    ax.set_ylabel('Number of Immigrants')\n",
    "    #Enabling Grid\n",
    "    #plt.grid(True)  #or ax.grid()\n",
    "    #Legend\n",
    "    plt.legend([\"Immigrants\"]) #or ax.legend()\n",
    "    #Display the plot\n",
    "    plt.show()\n",
    "```\n",
    "</details>\n"
   ],
   "metadata": {}
  },
  {
   "cell_type": "code",
   "source": [],
   "metadata": {},
   "execution_count": null,
   "outputs": []
  },
  {
   "cell_type": "markdown",
   "source": [
    "#### We can clearly notice how number of immigrants from Haiti spiked up from 2010 as Canada stepped up its efforts to accept refugees from Haiti. <br>Let's annotate this spike in the plot by using the *ax.annotate()* method.\n"
   ],
   "metadata": {}
  },
  {
   "cell_type": "code",
   "source": [
    "fig, ax = plt.subplots()\n",
    "\n",
    "ax.plot(haiti)\n",
    "\n",
    "#Setting up the Title\n",
    "ax.set_title('Immigrants from Haiti between 1980 to 2013') \n",
    "\n",
    "#Setting up the Labels\n",
    "ax.set_xlabel('Years')\n",
    "ax.set_ylabel('Number of Immigrants')\n",
    "\n",
    "#Enabling Grid and ticks\n",
    "#plt.grid(True)  #or ax.grid()\n",
    "#ax.set_xticks(list(range(n, m, s)))\n",
    "\n",
    "#Legend\n",
    "plt.legend([\"Immigrants\"]) #or ax.legend()\n",
    "\n",
    "ax.annotate('2010 Earthquake',xy=(2000, 6000))\n",
    "plt.show()"
   ],
   "metadata": {},
   "execution_count": null,
   "outputs": []
  },
  {
   "cell_type": "markdown",
   "source": [
    "You can also specify the ticks to be displayed on the plot like this - ax.set_xticks(list(range(1980, 2015,5)))\n"
   ],
   "metadata": {}
  },
  {
   "cell_type": "markdown",
   "source": [
    "---\n"
   ],
   "metadata": {}
  },
  {
   "cell_type": "markdown",
   "source": [
    "# Scatter Plot<a id=\"8\"></a>\n"
   ],
   "metadata": {}
  },
  {
   "cell_type": "markdown",
   "source": [
    "A scatter plot visualizes the relationship between two continuous variables, displaying individual data points as dots on a two-dimensional plane, allowing for the examination of patterns, clusters, and correlations.<br><br>Let's created a *Scatter plot* to visualize the immigrants (to Canada) trend during 1980 to 2013.<br>We need the Total of year-wise immigrants,<br><br>We will create a new dataframe for only columns containing the years<br> then, we will apply sum() on the dataframe<br><br>You can do create a scatter plot directly on **ax** by calling plot function **scatter()**\n"
   ],
   "metadata": {}
  },
  {
   "cell_type": "code",
   "source": [
    "#Create figure and axes\n",
    "fig, ax = plt.subplots(figsize=(8, 4))\n",
    "\n",
    "# Customizing Scatter Plot \n",
    "ax.scatter(years, total_immigrants, \n",
    "           marker='o', #setting up the markers\n",
    "           s = 20, #setting up the size of the markers\n",
    "           color='darkblue')#the color for the marker\n",
    "\n",
    "#add title \n",
    "plt.title('Immigrants between 1980 to 2013') \n",
    "#add labels \n",
    "plt.xlabel('Years')\n",
    "plt.ylabel('Total Immigrants') \n",
    "#including grid\n",
    "plt.grid(True)\n",
    "\n",
    "#Legend at upper center of the figure\n",
    "ax.legend([\"Immigrants\"], loc='upper center')\n",
    "\n",
    "#Display the plot\n",
    "plt.show()"
   ],
   "metadata": {},
   "execution_count": null,
   "outputs": []
  },
  {
   "cell_type": "code",
   "source": [
    "#Create figure and axes\n",
    "fig, ax = plt.subplots(figsize=(8, 4))\n",
    "\n",
    "total_immigrants.index = total_immigrants.index.map(int)\n",
    "\n",
    "# Customizing Scatter Plot \n",
    "ax.scatter(total_immigrants.index, total_immigrants, \n",
    "           marker='o', #setting up the markers\n",
    "           s = 20, #setting up the size of the markers\n",
    "           color='darkblue')#the color for the marker\n",
    "\n",
    "#add title \n",
    "plt.title('Immigrants between 1980 to 2013') \n",
    "#add labels \n",
    "plt.xlabel('Years')\n",
    "plt.ylabel('Total Immigrants') \n",
    "#including grid\n",
    "plt.grid(True)\n",
    "\n",
    "#Legend at upper center of the figure\n",
    "ax.legend([\"Immigrants\"], loc='upper center')\n",
    "\n",
    "#Display the plot\n",
    "plt.show()"
   ],
   "metadata": {},
   "execution_count": null,
   "outputs": []
  },
  {
   "cell_type": "markdown",
   "source": [
    "### Refer to the [matplotlib documentation](https://matplotlib.org/stable/api/markers_api.html) and change the marker and its size, color in the above code to see the difference in the appearance of the plot\n"
   ],
   "metadata": {}
  },
  {
   "cell_type": "markdown",
   "source": [
    "---\n"
   ],
   "metadata": {}
  },
  {
   "cell_type": "markdown",
   "source": [
    "# Bar Plot<a id=\"10\"></a>\n"
   ],
   "metadata": {}
  },
  {
   "cell_type": "markdown",
   "source": [
    "A bar plot represents categorical data with rectangular bars, where the height of each bar corresponds to the value of a specific category, making it suitable for comparing values across different categories.<br><br>Let's create a bar plot to visualize the top 5 countries that contribued the most immigrants to Canada from 1980 to 2013. \n",
    "<br><br>Apply sort_values function on the 'Total' column of our data<br><br>We will create a new dataframe for only columns containing the years<br> then, we will apply sum() on the dataframe and can create a separatedataframe for top five countries<br><br>You can further use the names of the countries to label each bar on the plot\n"
   ],
   "metadata": {}
  },
  {
   "cell_type": "code",
   "source": [
    "#Sorting the dataframe on 'Total' in descending order\n",
    "df_can.sort_values(['Total'], ascending=False, axis=0, inplace=True)\n",
    "\n",
    "# get the top 5 entries with head function\n",
    "df_top5 = df_can.head()\n",
    "\n",
    "#resetting the index back to original way\n",
    "df_bar_5=df_top5.reset_index()\n",
    "\n",
    "#Creating alist of names of the top 5 countries\n",
    "label=list(df_bar_5.Country)\n",
    "label"
   ],
   "metadata": {},
   "execution_count": null,
   "outputs": []
  },
  {
   "cell_type": "markdown",
   "source": [
    "##### The third name is too lengthy to fit on the x-axis as label. Let's fix this using indexing\n"
   ],
   "metadata": {}
  },
  {
   "cell_type": "code",
   "source": [
    "label[2]='UK'\n",
    "label"
   ],
   "metadata": {},
   "execution_count": null,
   "outputs": []
  },
  {
   "cell_type": "code",
   "source": [
    "fig, ax = plt.subplots(figsize=(10, 4))\n",
    "\n",
    "ax.bar(label,df_bar_5['Total'], label=label)\n",
    "ax.set_title('Immigration Trend of Top 5 Countries')\n",
    "ax.set_ylabel('Number of Immigrants')\n",
    "ax.set_xlabel('Years')\n",
    "\n",
    "plt.show()"
   ],
   "metadata": {},
   "execution_count": null,
   "outputs": []
  },
  {
   "cell_type": "markdown",
   "source": [
    "### Question: Create a bar plot of the 5 countries that contributed the **least** to immigration to Canada **from** 1980 to 2013. \n"
   ],
   "metadata": {}
  },
  {
   "cell_type": "code",
   "source": [],
   "metadata": {},
   "execution_count": null,
   "outputs": []
  },
  {
   "cell_type": "markdown",
   "source": [
    "<details><summary>Click here for a sample python solution</summary>\n",
    "\n",
    "```python\n",
    "    #Sorting the dataframe on 'Total' in descending order\n",
    "    df_can.sort_values(['Total'], ascending=True, axis=0, inplace=True)\n",
    "\n",
    "    # get the top 5 entries with head function\n",
    "    df_least5 = df_can.head()\n",
    "\n",
    "    #resetting the index back to original way\n",
    "    df_least5_bar=df_least5.reset_index()\n",
    "\n",
    "    #Creating alist of names of the top 5 countries\n",
    "    label=list(df_least5_bar.Country)\n",
    "    #label\n",
    "\n",
    "    fig, ax = plt.subplots(figsize=(10, 4))\n",
    "\n",
    "    ax.bar(label, df_least5_bar['Total'],label=label)\n",
    "    ax.set_title('Immigration Trend of Top 5 Countries')\n",
    "    ax.set_ylabel('Number of Immigrants')\n",
    "    ax.set_xlabel('Years')\n",
    "\n",
    "    plt.show()\n",
    " ```\n",
    "    </details>\n"
   ],
   "metadata": {}
  },
  {
   "cell_type": "markdown",
   "source": [
    "---\n"
   ],
   "metadata": {}
  },
  {
   "cell_type": "markdown",
   "source": [
    "# Histogram<a id=\"12\"></a>\n"
   ],
   "metadata": {}
  },
  {
   "cell_type": "markdown",
   "source": [
    "A histogram is a way of representing the *frequency* distribution of numeric dataset. The way it works is it partitions the x-axis into *bins*, assigns each data point in our dataset to a bin, and then counts the number of data points that have been assigned to each bin. So the y-axis is the frequency or the number of data points in each bin. Note that we can change the bin size and usually one needs to tweak it so that the distribution is displayed nicely.\n",
    "<br><br>Let's find out the frequency distribution of the number (population) of new immigrants from the various countries to Canada in 2013?<br>\n"
   ],
   "metadata": {}
  },
  {
   "cell_type": "code",
   "source": [
    "df_country = df_can.groupby(['Country'])['2013'].sum().reset_index()\n",
    "\n",
    "#Create figure and axes\n",
    "fig, ax = plt.subplots(figsize=(10, 4))\n",
    "ax.hist(df_country['2013'])\n",
    "ax.set_title('New Immigrants in 2013') \n",
    "ax.set_xlabel('Number of Immigrants')\n",
    "ax.set_ylabel('Number of Countries')\n",
    "ax.legend(['Immigrants'])\n",
    "\n",
    "#Display the plot\n",
    "plt.show()"
   ],
   "metadata": {},
   "execution_count": null,
   "outputs": []
  },
  {
   "cell_type": "markdown",
   "source": [
    "Our plot doesnot match with the bars<br>By default, the `histrogram` method breaks up the dataset into 10 bins. The figure below summarizes the bin ranges and the frequency distribution of immigration in 2013<br> The hist function retuns list of arrays with 1. counts and 2. bins. we can fetch that using unpacking functionality <br> and further use the bins as x-ticks\n"
   ],
   "metadata": {}
  },
  {
   "cell_type": "code",
   "source": [
    "# Plot the bar\n",
    "fig, ax = plt.subplots(figsize=(10, 4))\n",
    "count = ax.hist(df_country['2013'])\n",
    "\n",
    "#you can check the arrays in count with indexing count[0] for count, count[1] for bins\n",
    "\n",
    "ax.set_title('New Immigrants in 2013') \n",
    "ax.set_xlabel('Number of Immigrants')\n",
    "ax.set_ylabel('Number of Countries')\n",
    "ax.set_xticks(list(map(int,count[1])))\n",
    "ax.legend(['Immigrants'])\n",
    "\n",
    "#Display the plot\n",
    "plt.show()"
   ],
   "metadata": {},
   "execution_count": null,
   "outputs": []
  },
  {
   "cell_type": "markdown",
   "source": [
    "#### We can also plot multiple histograms on the same plot. For example, let's try to answer the following questions using a histogram.\n",
    "\n",
    "#### What is the immigration distribution for Denmark, Norway, and Sweden for years 1980 - 2013?\n"
   ],
   "metadata": {}
  },
  {
   "cell_type": "code",
   "source": [
    "# let's quickly view the dataset \n",
    "df=df_can.groupby(['Country'])[years].sum()\n",
    "df_dns=df.loc[['Denmark', 'Norway', 'Sweden'], years]\n",
    "df_dns=df_dns.T\n",
    "df_dns"
   ],
   "metadata": {},
   "execution_count": null,
   "outputs": []
  },
  {
   "cell_type": "code",
   "source": [
    "#Create figure and axes\n",
    "fig, ax = plt.subplots(figsize=(10, 4))\n",
    "ax.hist(df_dns)\n",
    "ax.set_title('Immigration from Denmark, Norway, and Sweden from 1980 - 2013') \n",
    "ax.set_xlabel('Number of Immigrants')\n",
    "ax.set_ylabel('Number of Years')\n",
    "ax.legend(['Denmark', 'Norway', 'Sweden'])\n",
    "#Display the plot\n",
    "plt.show()"
   ],
   "metadata": {},
   "execution_count": null,
   "outputs": []
  },
  {
   "cell_type": "markdown",
   "source": [
    "### Question: What is the immigration distribution for China and India for years 2000 to 2013?\n"
   ],
   "metadata": {}
  },
  {
   "cell_type": "code",
   "source": [],
   "metadata": {},
   "execution_count": null,
   "outputs": []
  },
  {
   "cell_type": "markdown",
   "source": [
    "<details><summary>Click here for a sample python solution</summary>\n",
    "\n",
    "```python\n",
    "    # let's quickly view the dataset \n",
    "    df=df_can.groupby(['Country'])[years].sum()\n",
    "    y=list(map(str,range(2000, 2014)))\n",
    "    df_ci=df.loc[['China', 'India'], y]\n",
    "    df_ci=df_ci.T\n",
    "    #df_ci\n",
    "    fig, ax = plt.subplots(figsize=(10, 4))\n",
    "    ax.hist(df_ci)\n",
    "    ax.set_title('Immigration from Denmark, Norway, and Sweden from 1980 - 2013') \n",
    "    ax.set_xlabel('Number of Immigrants')\n",
    "    ax.set_ylabel('Number of Years')\n",
    "    ax.legend(['China', 'India'])\n",
    "    #Display the plot\n",
    "    plt.show()\n",
    "```\n",
    "</details>\n"
   ],
   "metadata": {}
  },
  {
   "cell_type": "markdown",
   "source": [
    "---\n"
   ],
   "metadata": {}
  },
  {
   "cell_type": "markdown",
   "source": [
    "# Pie Chart<a id=\"14\"></a>\n",
    "\n",
    "A pie chart represents the proportion or percentage distribution of different categories in a dataset using sectors of a circular pie.\n",
    "<br> Let's create a pie chart representing the 'Total Immigrants' for the year 1980 to 1985\n"
   ],
   "metadata": {}
  },
  {
   "cell_type": "code",
   "source": [
    "fig,ax=plt.subplots()\n",
    "\n",
    "#Pie on immigrants\n",
    "ax.pie(total_immigrants[0:5], labels=years[0:5], \n",
    "       colors = ['gold','blue','lightgreen','coral','cyan'],\n",
    "       autopct='%1.1f%%',explode = [0,0,0,0,0.1]) #using explode to highlight the lowest \n",
    "\n",
    "ax.set_aspect('equal')  # Ensure pie is drawn as a circle\n",
    "\n",
    "plt.title('Distribution of Immigrants from 1980 to 1985')\n",
    "#plt.legend(years[0:5]), include legend, if you donot want to pass the labels\n",
    "plt.show()"
   ],
   "metadata": {},
   "execution_count": null,
   "outputs": []
  },
  {
   "cell_type": "markdown",
   "source": [
    "### Question: Create a pie chart representing the total immigrants proportion for each continent\n",
    "\n",
    "First, you will have to group the data over continents and get the sum on total. Then you can pass this data to the pie function\n"
   ],
   "metadata": {}
  },
  {
   "cell_type": "code",
   "source": [
    "#Creating data for plotting pie\n",
    "df_con=df_can.groupby('Continent')['Total'].sum().reset_index()\n",
    "label=list(df_con.Continent)\n",
    "label[3] = 'LAC'\n",
    "label[4] = 'NA'\n",
    "df_con"
   ],
   "metadata": {},
   "execution_count": null,
   "outputs": []
  },
  {
   "cell_type": "code",
   "source": [],
   "metadata": {},
   "execution_count": null,
   "outputs": []
  },
  {
   "cell_type": "markdown",
   "source": [
    "<details><summary>Click here for a sample python solution</summary>\n",
    "\n",
    "```python\n",
    "    fig,ax=plt.subplots(figsize=(10, 4))\n",
    "\n",
    "    #Pie on immigrants\n",
    "    ax.pie(df_con['Total'], colors = ['gold','blue','lightgreen','coral','cyan','red'],\n",
    "           autopct='%1.1f%%', pctdistance=1.25)\n",
    "\n",
    "    ax.set_aspect('equal')  # Ensure pie is drawn as a circle\n",
    "\n",
    "    plt.title('Continent-wise distribution of immigrants')\n",
    "    ax.legend(label,bbox_to_anchor=(1, 0, 0.5, 1))\n",
    "    plt.show()\n",
    " ```\n",
    "    </details>\n"
   ],
   "metadata": {}
  },
  {
   "cell_type": "markdown",
   "source": [
    "---\n"
   ],
   "metadata": {}
  },
  {
   "cell_type": "markdown",
   "source": [
    "# Sub-plotting<a id=\"18\"></a>\n"
   ],
   "metadata": {}
  },
  {
   "cell_type": "markdown",
   "source": [
    "Let us explore how to display more than one plot on the same figure and specify the number of rows and columns to be created to the subplots function.  \n",
    "\n",
    "For instance, let’s create a line and scatter plot in one row <br>\n",
    "plt.subplots() <br>\n",
    "You can use the same functions using which you plotte lne and scatter plots at the start of this lab\n",
    "<br>\n",
    "Both the subplots will be sharing the same y-axis as the data in the y-axis is the same. So, assign the ‘Sharey’ parameter as True in the code below. Also notice the use of 'suptitle'\n"
   ],
   "metadata": {}
  },
  {
   "cell_type": "code",
   "source": [
    "# Create a figure with two axes in a row\n",
    "\n",
    "fig, axs = plt.subplots(1, 2, sharey=True)\n",
    "\n",
    "#Plotting in first axes - the left one\n",
    "axs[0].plot(total_immigrants)\n",
    "axs[0].set_title(\"Line plot on immigrants\")\n",
    "\n",
    "#Plotting in second axes - the right one\n",
    "axs[1].scatter(total_immigrants.index, total_immigrants)\n",
    "axs[1].set_title(\"Scatter plot on immigrants\")\n",
    "\n",
    "axs[0].set_ylabel(\"Number of Immigrants\")\n",
    "            \n",
    "#Adding a Title for the Overall Figure\n",
    "fig.suptitle('Subplotting Example', fontsize=15)\n",
    "\n",
    "# Adjust spacing between subplots\n",
    "fig.tight_layout()\n",
    "\n",
    "\n",
    "# Show the figure\n",
    "plt.show()"
   ],
   "metadata": {},
   "execution_count": null,
   "outputs": []
  },
  {
   "cell_type": "markdown",
   "source": [
    "You can also implement the subplotting with **add_subplot()** as below:-\n"
   ],
   "metadata": {}
  },
  {
   "cell_type": "code",
   "source": [
    "# Create a figure with Four axes - two rows, two columns\n",
    "fig = plt.figure(figsize=(8,4))\n",
    "\n",
    "# Add the first subplot (top-left)\n",
    "axs1 = fig.add_subplot(1, 2, 1)\n",
    "#Plotting in first axes - the left one\n",
    "axs1.plot(total_immigrants)\n",
    "axs1.set_title(\"Line plot on immigrants\")\n",
    "\n",
    "# Add the second subplot (top-right)\n",
    "axs2 = fig.add_subplot(1, 2, 2)\n",
    "#Plotting in second axes - the right one\n",
    "axs2.barh(total_immigrants.index, total_immigrants) #Notice the use of 'barh' for creating horizontal bar plot\n",
    "axs2.set_title(\"Bar plot on immigrants\")\n",
    "            \n",
    "#Adding a Title for the Overall Figure\n",
    "fig.suptitle('Subplotting Example', fontsize=15)\n",
    "\n",
    "# Adjust spacing between subplots\n",
    "fig.tight_layout()\n",
    "\n",
    "\n",
    "# Show the figure\n",
    "plt.show()"
   ],
   "metadata": {},
   "execution_count": null,
   "outputs": []
  },
  {
   "cell_type": "markdown",
   "source": [
    "### Question: Choose any four plots, which you have developed in this lab, with subplotting display them in a 2x2 display\n"
   ],
   "metadata": {}
  },
  {
   "cell_type": "code",
   "source": [],
   "metadata": {},
   "execution_count": null,
   "outputs": []
  },
  {
   "cell_type": "markdown",
   "source": [
    "\n",
    "<details><summary>Click here for a sample python solution</summary>\n",
    "\n",
    "```python\n",
    "    # Create a figure with Four axes - two rows, two columns\n",
    "    fig = plt.figure(figsize=(10, 10))\n",
    "\n",
    "    # Add the first subplot (top-left)\n",
    "    ax1 = fig.add_subplot(2, 2, 1)\n",
    "    ax1.plot(total_immigrants)\n",
    "    ax1.set_title('Plot 1 - Line Plot')\n",
    "\n",
    "    # Add the second subplot (top-right)\n",
    "    ax2 = fig.add_subplot(2, 2, 2)\n",
    "    ax2.scatter(total_immigrants.index, total_immigrants)\n",
    "    ax2.set_title('Plot 2 - Scatter plot')\n",
    "\n",
    "    # Add the third subplot (bottom-left)\n",
    "    ax3 = fig.add_subplot(2, 2, 3)\n",
    "    ax3.hist(df_dns)\n",
    "    ax3.set_title('Plot3 - Histogram') \n",
    "    ax3.set_xlabel('Number of Immigrants')\n",
    "    ax3.set_ylabel('Number of Years')\n",
    "\n",
    "    # Add the fourth subplot (bottom-right)\n",
    "    ax4 = fig.add_subplot(2, 2, 4)\n",
    "    ax4.pie(total_immigrants[0:5], labels=years[0:5], \n",
    "           colors = ['gold','blue','lightgreen','coral','cyan'],\n",
    "           autopct='%1.1f%%')\n",
    "    ax4.set_aspect('equal')  \n",
    "    ax4.set_title('Plot 5 - Pie Chart')\n",
    "\n",
    "    #Adding a Title for the Overall Figure\n",
    "    fig.suptitle('Four Plots in a Figure Example', fontsize=15)\n",
    "\n",
    "    # Adjust spacing between subplots\n",
    "    fig.tight_layout()\n",
    "\n",
    "\n",
    "    # Show the figure\n",
    "    plt.show()\n",
    "  ```\n",
    "    </details>\n"
   ],
   "metadata": {}
  },
  {
   "cell_type": "markdown",
   "source": [
    "---\n"
   ],
   "metadata": {}
  },
  {
   "cell_type": "code",
   "source": [],
   "metadata": {},
   "execution_count": null,
   "outputs": []
  }
 ]
}
