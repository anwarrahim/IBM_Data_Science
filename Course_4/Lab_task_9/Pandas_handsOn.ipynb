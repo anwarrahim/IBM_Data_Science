{
 "cells": [
  {
   "cell_type": "code",
   "execution_count": 3,
   "metadata": {
    "collapsed": true,
    "ExecuteTime": {
     "start_time": "2023-05-14T22:44:55.803749Z",
     "end_time": "2023-05-14T22:44:55.829862Z"
    }
   },
   "outputs": [],
   "source": [
    "import pandas as pd\n",
    "# make the dictionary for makeing the data fram\n",
    "Data = {'Student':['Anwar ', 'Rahim', 'Khan', 'zambo', 'farhan'], 'ID':[1,2,3,4,5], 'Department':['software engineering','Data Science','infrastructure','Filming','student'], 'Salery':[200,19,89,98,45]}\n",
    "#making this dictionary into data frame\n",
    "df = pd.DataFrame(Data)\n"
   ]
  },
  {
   "cell_type": "code",
   "execution_count": 4,
   "outputs": [
    {
     "name": "stdout",
     "output_type": "stream",
     "text": [
      "  Student  ID            Department  Salery\n",
      "0  Anwar    1  software engineering     200\n",
      "1   Rahim   2          Data Science      19\n",
      "2    Khan   3        infrastructure      89\n",
      "3   zambo   4               Filming      98\n",
      "4  farhan   5               student      45\n"
     ]
    }
   ],
   "source": [
    "#print all the values\n",
    "print(df)"
   ],
   "metadata": {
    "collapsed": false,
    "ExecuteTime": {
     "start_time": "2023-05-14T22:44:57.658108Z",
     "end_time": "2023-05-14T22:44:57.676884Z"
    }
   }
  },
  {
   "cell_type": "code",
   "execution_count": 14,
   "outputs": [
    {
     "data": {
      "text/plain": "0    Anwar \n1     Rahim\n2      Khan\n3     zambo\n4    farhan\nName: Student, dtype: object"
     },
     "execution_count": 14,
     "metadata": {},
     "output_type": "execute_result"
    }
   ],
   "source": [
    "# select just on or two specific column\n",
    "\n",
    "Data=df[['Student']]\n",
    "Data"
   ],
   "metadata": {
    "collapsed": false,
    "ExecuteTime": {
     "start_time": "2023-05-14T23:04:06.328709Z",
     "end_time": "2023-05-14T23:04:06.362805Z"
    }
   }
  },
  {
   "cell_type": "code",
   "execution_count": 18,
   "outputs": [
    {
     "data": {
      "text/plain": "   Salery            Department\n0     200  software engineering\n1      19          Data Science\n2      89        infrastructure\n3      98               Filming\n4      45               student",
      "text/html": "<div>\n<style scoped>\n    .dataframe tbody tr th:only-of-type {\n        vertical-align: middle;\n    }\n\n    .dataframe tbody tr th {\n        vertical-align: top;\n    }\n\n    .dataframe thead th {\n        text-align: right;\n    }\n</style>\n<table border=\"1\" class=\"dataframe\">\n  <thead>\n    <tr style=\"text-align: right;\">\n      <th></th>\n      <th>Salery</th>\n      <th>Department</th>\n    </tr>\n  </thead>\n  <tbody>\n    <tr>\n      <th>0</th>\n      <td>200</td>\n      <td>software engineering</td>\n    </tr>\n    <tr>\n      <th>1</th>\n      <td>19</td>\n      <td>Data Science</td>\n    </tr>\n    <tr>\n      <th>2</th>\n      <td>89</td>\n      <td>infrastructure</td>\n    </tr>\n    <tr>\n      <th>3</th>\n      <td>98</td>\n      <td>Filming</td>\n    </tr>\n    <tr>\n      <th>4</th>\n      <td>45</td>\n      <td>student</td>\n    </tr>\n  </tbody>\n</table>\n</div>"
     },
     "execution_count": 18,
     "metadata": {},
     "output_type": "execute_result"
    }
   ],
   "source": [
    "# retrieve data from two or more columns save in Data1\n",
    "Data1 = df[['Salery','Department']]\n",
    "Data1"
   ],
   "metadata": {
    "collapsed": false,
    "ExecuteTime": {
     "start_time": "2023-05-14T23:06:58.745378Z",
     "end_time": "2023-05-14T23:06:58.770396Z"
    }
   }
  },
  {
   "cell_type": "code",
   "execution_count": 19,
   "outputs": [
    {
     "data": {
      "text/plain": "pandas.core.frame.DataFrame"
     },
     "execution_count": 19,
     "metadata": {},
     "output_type": "execute_result"
    }
   ],
   "source": [
    "type(Data1)"
   ],
   "metadata": {
    "collapsed": false,
    "ExecuteTime": {
     "start_time": "2023-05-14T23:07:37.311192Z",
     "end_time": "2023-05-14T23:07:37.483894Z"
    }
   }
  },
  {
   "cell_type": "code",
   "execution_count": null,
   "outputs": [],
   "source": [],
   "metadata": {
    "collapsed": false
   }
  }
 ],
 "metadata": {
  "kernelspec": {
   "display_name": "Python 3",
   "language": "python",
   "name": "python3"
  },
  "language_info": {
   "codemirror_mode": {
    "name": "ipython",
    "version": 2
   },
   "file_extension": ".py",
   "mimetype": "text/x-python",
   "name": "python",
   "nbconvert_exporter": "python",
   "pygments_lexer": "ipython2",
   "version": "2.7.6"
  }
 },
 "nbformat": 4,
 "nbformat_minor": 0
}
