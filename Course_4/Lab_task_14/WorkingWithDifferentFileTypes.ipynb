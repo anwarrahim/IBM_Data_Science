{
  "metadata": {
    "kernelspec": {
      "display_name": "Python",
      "language": "python",
      "name": "conda-env-python-py"
    },
    "language_info": {
      "name": ""
    }
  },
  "nbformat_minor": 4,
  "nbformat": 4,
  "cells": [
    {
      "cell_type": "markdown",
      "source": "<center>\n    <img src=\"https://cf-courses-data.s3.us.cloud-object-storage.appdomain.cloud/IBMDeveloperSkillsNetwork-PY0101EN-SkillsNetwork/IDSNlogo.png\" width=\"300\" alt=\"cognitiveclass.ai logo\">\n</center>\n",
      "metadata": {}
    },
    {
      "cell_type": "markdown",
      "source": "# Table of Contents\n\n<div class=\"alert alert-block alert-info\" style=\"margin-top: 20px\">\n\n<font size = 3>\n\n1.  <a href=\"https://#item31\">Data Engineering</a>\n2.  <a href=\"https://#item31\">Data Engineering Process</a>\n3.  <a href=\"https://#item32\">Working with different file formats</a>\n4.  <a href=\"https://#item33\">Data Analysis</a>\n\n</font>\n</div>\n",
      "metadata": {}
    },
    {
      "cell_type": "markdown",
      "source": "# Data Engineering\n",
      "metadata": {}
    },
    {
      "cell_type": "markdown",
      "source": "**Data engineering** is one of the most critical and foundational skills in any data scientist’s toolkit.\n",
      "metadata": {}
    },
    {
      "cell_type": "markdown",
      "source": "# Data Engineering Process\n",
      "metadata": {}
    },
    {
      "cell_type": "markdown",
      "source": "There are several steps in Data Engineering process.\n\n1.  **Extract** - Data extraction is getting data from multiple sources. Ex. Data extraction from a website using Web scraping or gathering information from the data that are stored in different formats(JSON, CSV, XLSX etc.).\n\n2.  **Transform** - Tarnsforming the data means removing the data that we don't need for further analysis and converting the data in the format that all the data from the multiple sources is in the same format.\n\n3.  **Load** - Loading the data inside a data warehouse. Data warehouse essentially contains large volumes of data that are accessed to gather insights.\n",
      "metadata": {}
    },
    {
      "cell_type": "markdown",
      "source": "# Working with different file formats\n",
      "metadata": {}
    },
    {
      "cell_type": "markdown",
      "source": "In the real-world, people rarely get neat tabular data. Thus, it is mandatory for any data scientist (or data engineer) to be aware of different file formats, common challenges in handling them and the best, most efficient ways to handle this data in real life. We have reviewed some of this content in other modules.\n",
      "metadata": {}
    },
    {
      "cell_type": "markdown",
      "source": "#### File Format\n",
      "metadata": {}
    },
    {
      "cell_type": "markdown",
      "source": "A file format is a standard way in which information is encoded for storage in a file. First, the file format specifies whether the file is a binary or ASCII file. Second, it shows how the information is organized. For example, the comma-separated values (CSV) file format stores tabular data in plain text.\n\nTo identify a file format, you can usually look at the file extension to get an idea. For example, a file saved with name “Data” in “CSV” format will appear as “Data.csv”. By noticing the “.csv” extension, we can clearly identify that it is a “CSV” file and the data is stored in a tabular format.\n",
      "metadata": {}
    },
    {
      "cell_type": "markdown",
      "source": "There are various formats for a dataset, .csv, .json, .xlsx etc. The dataset can be stored in different places, on your local machine or sometimes online.\n\n**In this section, you will learn how to load a dataset into our Jupyter Notebook.**\n",
      "metadata": {}
    },
    {
      "cell_type": "markdown",
      "source": "Now, we will look at some file formats and how to read them in Python:\n",
      "metadata": {}
    },
    {
      "cell_type": "markdown",
      "source": "# Comma-separated values (CSV) file format\n",
      "metadata": {}
    },
    {
      "cell_type": "markdown",
      "source": "The **Comma-separated values** file format falls under a spreadsheet file format.\n\nIn a spreadsheet file format, data is stored in cells. Each cell is organized in rows and columns. A column in the spreadsheet file can have different types. For example, a column can be of string type, a date type, or an integer type.\n\nEach line in CSV file represents an observation, or commonly called a record. Each record may contain one or more fields which are separated by a comma.\n",
      "metadata": {}
    },
    {
      "cell_type": "markdown",
      "source": "## Reading data from CSV in Python\n",
      "metadata": {}
    },
    {
      "cell_type": "markdown",
      "source": "The **Pandas** Library is a useful tool that enables us to read various datasets into a Pandas data frame\n\nLet us look at how to read a CSV file in Pandas Library.\n\nWe use **pandas.read_csv()** function to read the csv file. In the parentheses, we put the file path along with a quotation mark as an argument, so that pandas will read the file into a data frame from that address. The file path can be either a URL or your local file address.\n",
      "metadata": {}
    },
    {
      "cell_type": "code",
      "source": "import piplite\nawait piplite.install(['seaborn', 'lxml', 'openpyxl'])\n\nimport pandas as pd",
      "metadata": {
        "trusted": true
      },
      "execution_count": null,
      "outputs": []
    },
    {
      "cell_type": "code",
      "source": "from pyodide.http import pyfetch\n\nfilename = \"https://cf-courses-data.s3.us.cloud-object-storage.appdomain.cloud/IBMDeveloperSkillsNetwork-PY0101EN-SkillsNetwork/labs/Module%205/data/addresses.csv\"\n\nasync def download(url, filename):\n    response = await pyfetch(url)\n    if response.status == 200:\n        with open(filename, \"wb\") as f:\n            f.write(await response.bytes())\n\nawait download(filename, \"addresses.csv\")\n\ndf = pd.read_csv(\"addresses.csv\", header=None)",
      "metadata": {
        "trusted": true
      },
      "execution_count": null,
      "outputs": []
    },
    {
      "cell_type": "code",
      "source": "df",
      "metadata": {
        "trusted": true
      },
      "execution_count": null,
      "outputs": []
    },
    {
      "cell_type": "markdown",
      "source": "#### Adding column name to the DataFrame\n\nWe can add columns to an existing DataFrame using its **columns** attribute.\n",
      "metadata": {}
    },
    {
      "cell_type": "code",
      "source": "df.columns =['First Name', 'Last Name', 'Location ', 'City','State','Area Code']",
      "metadata": {
        "trusted": true
      },
      "execution_count": null,
      "outputs": []
    },
    {
      "cell_type": "code",
      "source": "df",
      "metadata": {
        "trusted": true
      },
      "execution_count": null,
      "outputs": []
    },
    {
      "cell_type": "markdown",
      "source": "#### Selecting a single column\n\nTo select the first column 'First Name', you can pass the column name as a string to the indexing operator.\n",
      "metadata": {}
    },
    {
      "cell_type": "code",
      "source": "df[\"First Name\"]",
      "metadata": {
        "trusted": true
      },
      "execution_count": null,
      "outputs": []
    },
    {
      "cell_type": "markdown",
      "source": "#### Selecting multiple columns\n\nTo select multiple columns, you can pass a list of column names to the indexing operator.\n",
      "metadata": {}
    },
    {
      "cell_type": "code",
      "source": "df = df[['First Name', 'Last Name', 'Location ', 'City','State','Area Code']]\ndf",
      "metadata": {
        "trusted": true
      },
      "execution_count": null,
      "outputs": []
    },
    {
      "cell_type": "markdown",
      "source": "#### Selecting rows using .iloc and .loc\n\nNow, let's see how to use .loc for selecting rows from our DataFrame.\n\n**loc() : loc() is label based data selecting method which means that we have to pass the name of the row or column which we want to select.**\n",
      "metadata": {}
    },
    {
      "cell_type": "code",
      "source": "# To select the first row\ndf.loc[0]",
      "metadata": {
        "trusted": true
      },
      "execution_count": null,
      "outputs": []
    },
    {
      "cell_type": "code",
      "source": "# To select the 0th,1st and 2nd row of \"First Name\" column only\ndf.loc[[0,1,2], \"First Name\" ]",
      "metadata": {
        "trusted": true
      },
      "execution_count": null,
      "outputs": []
    },
    {
      "cell_type": "markdown",
      "source": "Now, let's see how to use .iloc for selecting rows from our DataFrame.\n\n**iloc() : iloc() is a indexed based selecting method which means that we have to pass integer index in the method to select specific row/column.**\n",
      "metadata": {}
    },
    {
      "cell_type": "code",
      "source": "# To select the 0th,1st and 2nd row of \"First Name\" column only\ndf.iloc[[0,1,2], 0]",
      "metadata": {
        "trusted": true
      },
      "execution_count": null,
      "outputs": []
    },
    {
      "cell_type": "markdown",
      "source": "For more information please read the [documentation](https://pandas.pydata.org/pandas-docs/stable/user_guide/indexing.html?utm_medium=Exinfluencer&utm_source=Exinfluencer&utm_content=000026UJ&utm_term=10006555&utm_id=NA-SkillsNetwork-Channel-SkillsNetworkCoursesIBMDeveloperSkillsNetworkPY0101ENSkillsNetwork19487395-2021-01-01).\n\nLet perform some basic transformation in pandas.\n",
      "metadata": {}
    },
    {
      "cell_type": "markdown",
      "source": "### Transform Function in Pandas\n\nPython’s Transform function returns a self-produced dataframe with transformed values after applying the function specified in its parameter.\n\nLet's see how Transform function works.\n",
      "metadata": {}
    },
    {
      "cell_type": "code",
      "source": "#import library\nimport pandas as pd\nimport numpy as np",
      "metadata": {
        "trusted": true
      },
      "execution_count": null,
      "outputs": []
    },
    {
      "cell_type": "code",
      "source": "#creating a dataframe\ndf=pd.DataFrame(np.array([[1, 2, 3], [4, 5, 6], [7, 8, 9]]), columns=['a', 'b', 'c'])\ndf",
      "metadata": {
        "trusted": true
      },
      "execution_count": null,
      "outputs": []
    },
    {
      "cell_type": "markdown",
      "source": "Let’s say we want to add 10 to each element in a dataframe:\n",
      "metadata": {}
    },
    {
      "cell_type": "code",
      "source": "#applying the transform function\ndf = df.transform(func = lambda x : x + 10)\ndf",
      "metadata": {
        "trusted": true
      },
      "execution_count": null,
      "outputs": []
    },
    {
      "cell_type": "markdown",
      "source": "Now we will use DataFrame.transform() function to find the square root to each element of the dataframe.\n",
      "metadata": {}
    },
    {
      "cell_type": "code",
      "source": "result = df.transform(func = ['sqrt'])",
      "metadata": {
        "trusted": true
      },
      "execution_count": null,
      "outputs": []
    },
    {
      "cell_type": "code",
      "source": "result",
      "metadata": {
        "trusted": true
      },
      "execution_count": null,
      "outputs": []
    },
    {
      "cell_type": "markdown",
      "source": "For more information about the **transform()** function  please read the [documentation](https://pandas.pydata.org/pandas-docs/stable/reference/api/pandas.DataFrame.transform.html?utm_medium=Exinfluencer&utm_source=Exinfluencer&utm_content=000026UJ&utm_term=10006555&utm_id=NA-SkillsNetwork-Channel-SkillsNetworkCoursesIBMDeveloperSkillsNetworkPY0101ENSkillsNetwork19487395-2021-01-01).\n",
      "metadata": {}
    },
    {
      "cell_type": "markdown",
      "source": "# JSON file Format\n",
      "metadata": {}
    },
    {
      "cell_type": "markdown",
      "source": "**JSON (JavaScript Object Notation)** is a lightweight data-interchange format. It is easy for humans to read and write.\n\nJSON is built on two structures:\n\n1.  A collection of name/value pairs. In various languages, this is realized as an object, record, struct, dictionary, hash table, keyed list, or associative array.\n\n2.  An ordered list of values. In most languages, this is realized as an array, vector, list, or sequence.\n\nJSON is a language-independent data format. It was derived from JavaScript, but many modern programming languages include code to generate and parse JSON-format data. It is a very common data format with a diverse range of applications.\n",
      "metadata": {}
    },
    {
      "cell_type": "markdown",
      "source": "The text in JSON is done through quoted string which contains the values in key-value mappings within { }. It is similar to the dictionary in Python.\n",
      "metadata": {}
    },
    {
      "cell_type": "markdown",
      "source": "Python supports JSON through a built-in package called **json**. To use this feature, we import the json package in Python script.\n",
      "metadata": {}
    },
    {
      "cell_type": "code",
      "source": "import json",
      "metadata": {
        "trusted": true
      },
      "execution_count": null,
      "outputs": []
    },
    {
      "cell_type": "markdown",
      "source": "# Writing JSON to a File\n\nThis is usually called **serialization**. It is the process of converting an object into a special format which is suitable for transmitting over the network or storing in file or database.\n\nTo handle the data flow in a file, the JSON library in Python uses the **dump()** or **dumps()** function to convert the Python objects into their respective JSON object. This makes it easy to write data to files.\n",
      "metadata": {}
    },
    {
      "cell_type": "code",
      "source": "import json\nperson = {\n    'first_name' : 'Mark',\n    'last_name' : 'abc',\n    'age' : 27,\n    'address': {\n        \"streetAddress\": \"21 2nd Street\",\n        \"city\": \"New York\",\n        \"state\": \"NY\",\n        \"postalCode\": \"10021-3100\"\n    }\n}",
      "metadata": {
        "trusted": true
      },
      "execution_count": null,
      "outputs": []
    },
    {
      "cell_type": "markdown",
      "source": "#### serialization using dump() function\n\n**json.dump()** method can be used for writing to JSON file.\n\nSyntax: json.dump(dict, file_pointer)\n\nParameters:\n\n1.  **dictionary** – name of the dictionary which should be converted to JSON object.\n2.  **file pointer** – pointer of the file opened in write or append mode.\n",
      "metadata": {}
    },
    {
      "cell_type": "code",
      "source": "with open('person.json', 'w') as f:  # writing JSON object\n    json.dump(person, f)",
      "metadata": {
        "trusted": true
      },
      "execution_count": null,
      "outputs": []
    },
    {
      "cell_type": "markdown",
      "source": "#### serialization using dumps() function\n\n**json.dumps()** that helps in converting a dictionary to a JSON object.\n\nIt takes two parameters:\n\n1.  **dictionary** – name of the dictionary which should be converted to JSON object.\n2.  **indent** – defines the number of units for indentation\n",
      "metadata": {}
    },
    {
      "cell_type": "code",
      "source": "# Serializing json  \njson_object = json.dumps(person, indent = 4) \n  \n# Writing to sample.json \nwith open(\"sample.json\", \"w\") as outfile: \n    outfile.write(json_object) ",
      "metadata": {
        "trusted": true
      },
      "execution_count": null,
      "outputs": []
    },
    {
      "cell_type": "code",
      "source": "print(json_object)",
      "metadata": {
        "trusted": true
      },
      "execution_count": null,
      "outputs": []
    },
    {
      "cell_type": "markdown",
      "source": "Our Python objects are now serialized to the file. To deserialize it back to the Python object, we use the load() function.\n",
      "metadata": {}
    },
    {
      "cell_type": "markdown",
      "source": "# Reading JSON to a File\n",
      "metadata": {}
    },
    {
      "cell_type": "markdown",
      "source": "This process is usually called **Deserialization** - it is the reverse of serialization. It converts the special format returned by the serialization back into a usable object.\n\n### Using json.load()\n\nThe JSON package has json.load() function that loads the json content from a json file into a dictionary.\n\nIt takes one parameter:\n\nFile pointer: A file pointer that points to a JSON file.\n",
      "metadata": {}
    },
    {
      "cell_type": "code",
      "source": "import json \n  \n# Opening JSON file \nwith open('sample.json', 'r') as openfile: \n  \n    # Reading from json file \n    json_object = json.load(openfile) \n  \nprint(json_object) \nprint(type(json_object)) ",
      "metadata": {
        "trusted": true
      },
      "execution_count": null,
      "outputs": []
    },
    {
      "cell_type": "markdown",
      "source": "# XLSX file format\n",
      "metadata": {}
    },
    {
      "cell_type": "markdown",
      "source": "**XLSX** is a Microsoft Excel Open XML file format. It is another type of Spreadsheet file format.\n\nIn XLSX data is organized under the cells and columns in a sheet.\n",
      "metadata": {}
    },
    {
      "cell_type": "markdown",
      "source": "## Reading the data from XLSX file\n",
      "metadata": {}
    },
    {
      "cell_type": "markdown",
      "source": "Let’s load the data from XLSX file and define the sheet name. For loading the data you can use the Pandas library in python.\n",
      "metadata": {}
    },
    {
      "cell_type": "code",
      "source": "import pandas as pd",
      "metadata": {
        "trusted": true
      },
      "execution_count": null,
      "outputs": []
    },
    {
      "cell_type": "code",
      "source": "# Not needed unless you're running locally\n# import urllib.request\n# urllib.request.urlretrieve(\"https://cf-courses-data.s3.us.cloud-object-storage.appdomain.cloud/IBMDeveloperSkillsNetwork-PY0101EN-SkillsNetwork/labs/Module%205/data/file_example_XLSX_10.xlsx\", \"sample.xlsx\")\n\nfilename = \"https://cf-courses-data.s3.us.cloud-object-storage.appdomain.cloud/IBMDeveloperSkillsNetwork-PY0101EN-SkillsNetwork/labs/Module%205/data/file_example_XLSX_10.xlsx\"\n\nasync def download(url, filename):\n    response = await pyfetch(url)\n    if response.status == 200:\n        with open(filename, \"wb\") as f:\n            f.write(await response.bytes())\n\nawait download(filename, \"file_example_XLSX_10.xlsx\")\n\ndf = pd.read_excel(\"file_example_XLSX_10.xlsx\")",
      "metadata": {
        "trusted": true
      },
      "execution_count": null,
      "outputs": []
    },
    {
      "cell_type": "code",
      "source": "df",
      "metadata": {
        "trusted": true
      },
      "execution_count": null,
      "outputs": []
    },
    {
      "cell_type": "markdown",
      "source": "# XML file format\n",
      "metadata": {}
    },
    {
      "cell_type": "markdown",
      "source": "**XML is also known as Extensible Markup Language**. As the name suggests, it is a markup language. It has certain rules for encoding data. XML file format is a human-readable and machine-readable file format.\n\nPandas does not include any methods to read and write XML files. Here, we will take a look at how we can use other modules to read data from an XML file, and load it into a Pandas DataFrame.\n",
      "metadata": {}
    },
    {
      "cell_type": "markdown",
      "source": "### Writing with xml.etree.ElementTree\n",
      "metadata": {}
    },
    {
      "cell_type": "markdown",
      "source": "The **xml.etree.ElementTree** module comes built-in with Python. It provides functionality for parsing and creating XML documents. ElementTree represents the XML document as a tree. We can move across the document using nodes which are elements and sub-elements of the XML file.\n\nFor more information please read the [xml.etree.ElementTree](https://docs.python.org/3/library/xml.etree.elementtree.html?utm_medium=Exinfluencer&utm_source=Exinfluencer&utm_content=000026UJ&utm_term=10006555&utm_id=NA-SkillsNetwork-Channel-SkillsNetworkCoursesIBMDeveloperSkillsNetworkPY0101ENSkillsNetwork19487395-2021-01-01) documentation.\n",
      "metadata": {}
    },
    {
      "cell_type": "code",
      "source": "import xml.etree.ElementTree as ET\n\n# create the file structure\nemployee = ET.Element('employee')\ndetails = ET.SubElement(employee, 'details')\nfirst = ET.SubElement(details, 'firstname')\nsecond = ET.SubElement(details, 'lastname')\nthird = ET.SubElement(details, 'age')\nfirst.text = 'Shiv'\nsecond.text = 'Mishra'\nthird.text = '23'\n\n# create a new XML file with the results\nmydata1 = ET.ElementTree(employee)\n# myfile = open(\"items2.xml\", \"wb\")\n# myfile.write(mydata)\nwith open(\"new_sample.xml\", \"wb\") as files:\n    mydata1.write(files)",
      "metadata": {
        "trusted": true
      },
      "execution_count": null,
      "outputs": []
    },
    {
      "cell_type": "markdown",
      "source": "### Reading with xml.etree.ElementTree\n",
      "metadata": {}
    },
    {
      "cell_type": "markdown",
      "source": "Let's have a look at a one way to read XML data and put it in a Pandas DataFrame. You can see the XML file in the Notepad of your local machine.\n",
      "metadata": {}
    },
    {
      "cell_type": "code",
      "source": "# Not needed unless running locally\n# !wget https://cf-courses-data.s3.us.cloud-object-storage.appdomain.cloud/IBMDeveloperSkillsNetwork-PY0101EN-SkillsNetwork/labs/Module%205/data/Sample-employee-XML-file.xml\n\nimport xml.etree.ElementTree as etree\n\nfilename = \"https://cf-courses-data.s3.us.cloud-object-storage.appdomain.cloud/IBMDeveloperSkillsNetwork-PY0101EN-SkillsNetwork/labs/Module%205/data/Sample-employee-XML-file.xml\"\n\nasync def download(url, filename):\n    response = await pyfetch(url)\n    if response.status == 200:\n        with open(filename, \"wb\") as f:\n            f.write(await response.bytes())\n\nawait download(filename, \"Sample-employee-XML-file.xml\")",
      "metadata": {
        "trusted": true
      },
      "execution_count": null,
      "outputs": []
    },
    {
      "cell_type": "markdown",
      "source": "You would need to firstly parse an XML file and create a list of columns for data frame, then extract useful information from the XML file and add to a pandas data frame.\n\nHere is a sample code that you can use.:\n",
      "metadata": {}
    },
    {
      "cell_type": "code",
      "source": "tree = etree.parse(\"Sample-employee-XML-file.xml\")\n\nroot = tree.getroot()\ncolumns = [\"firstname\", \"lastname\", \"title\", \"division\", \"building\",\"room\"]\n\ndatatframe = pd.DataFrame(columns = columns)\n\nfor node in root: \n\n    firstname = node.find(\"firstname\").text\n\n    lastname = node.find(\"lastname\").text \n\n    title = node.find(\"title\").text \n    \n    division = node.find(\"division\").text \n    \n    building = node.find(\"building\").text\n    \n    room = node.find(\"room\").text\n    \n    datatframe = datatframe.append(pd.Series([firstname, lastname, title, division, building, room], index = columns), ignore_index = True)",
      "metadata": {
        "trusted": true
      },
      "execution_count": null,
      "outputs": []
    },
    {
      "cell_type": "code",
      "source": "datatframe",
      "metadata": {
        "trusted": true
      },
      "execution_count": null,
      "outputs": []
    },
    {
      "cell_type": "markdown",
      "source": "### Reading xml  file using pandas.read_xml function\n\nWe can also read the downloaded xml file using the read_xml function present in the pandas library which returns a Dataframe object.\n\nFor more information read the <a href=\"https://pandas.pydata.org/pandas-docs/dev/reference/api/pandas.read_xml.html?utm_medium=Exinfluencer&utm_source=Exinfluencer&utm_content=000026UJ&utm_term=10006555&utm_id=NA-SkillsNetwork-Channel-SkillsNetworkCoursesIBMDeveloperSkillsNetworkPY0101ENSkillsNetwork19487395-2021-01-01#pandas-read-xml\">pandas.read_xml</a> documentation.\n",
      "metadata": {}
    },
    {
      "cell_type": "code",
      "source": "# Herein xpath we mention the set of xml nodes to be considered for migrating  to the dataframe which in this case is details node under employees.\ndf=pd.read_xml(\"Sample-employee-XML-file.xml\", xpath=\"/employees/details\") ",
      "metadata": {
        "trusted": true
      },
      "execution_count": null,
      "outputs": []
    },
    {
      "cell_type": "markdown",
      "source": "### Save Data\n",
      "metadata": {}
    },
    {
      "cell_type": "markdown",
      "source": "Correspondingly, Pandas enables us to save the dataset to csv by using the **dataframe.to_csv()** method, you can add the file path and name along with quotation marks in the parentheses.\n\nFor example, if you would save the dataframe df as **employee.csv** to your local machine, you may use the syntax below:\n",
      "metadata": {}
    },
    {
      "cell_type": "code",
      "source": "datatframe.to_csv(\"employee.csv\", index=False)",
      "metadata": {
        "trusted": true
      },
      "execution_count": null,
      "outputs": []
    },
    {
      "cell_type": "markdown",
      "source": "We can also read and save other file formats, we can use similar functions to **`pd.read_csv()`** and **`df.to_csv()`** for other data formats. The functions are listed in the following table:\n",
      "metadata": {}
    },
    {
      "cell_type": "markdown",
      "source": "<h2>Read/Save Other Data Formats</h2>\n\n| Data Formate |        Read       |            Save |\n| ------------ | :---------------: | --------------: |\n| csv          |  `pd.read_csv()`  |   `df.to_csv()` |\n| json         |  `pd.read_json()` |  `df.to_json()` |\n| excel        | `pd.read_excel()` | `df.to_excel()` |\n| hdf          |  `pd.read_hdf()`  |   `df.to_hdf()` |\n| sql          |  `pd.read_sql()`  |   `df.to_sql()` |\n| ...          |        ...        |             ... |\n",
      "metadata": {}
    },
    {
      "cell_type": "markdown",
      "source": "Let's move ahead and perform some **Data Analysis**.\n",
      "metadata": {}
    },
    {
      "cell_type": "markdown",
      "source": "# Binary File Format\n\n\"Binary\" files are any files where the format isn't made up of readable characters. It contain formatting information that only certain applications or processors can understand. While humans can read text files, binary files must be run on the appropriate software or processor before humans can read them.\n\nBinary files can range from image files like JPEGs or GIFs, audio files like MP3s or binary document formats like Word or PDF.\n\nLet's see how to read an **Image** file.\n\n## Reading the Image file\n\nPython supports very powerful tools when it comes to image processing. Let’s see how to process the images using the **PIL** library.\n\nPIL is the Python Imaging Library which provides the python interpreter with image editing capabilities.\n",
      "metadata": {}
    },
    {
      "cell_type": "code",
      "source": "# importing PIL \nfrom PIL import Image \n\n# Uncomment if running locally\n# import urllib.request\n# urllib.request.urlretrieve(\"https://hips.hearstapps.com/hmg-prod.s3.amazonaws.com/images/dog-puppy-on-garden-royalty-free-image-1586966191.jpg\", \"dog.jpg\")\n\nfilename = \"https://hips.hearstapps.com/hmg-prod.s3.amazonaws.com/images/dog-puppy-on-garden-royalty-free-image-1586966191.jpg\"\n\nasync def download(url, filename):\n    response = await pyfetch(url)\n    if response.status == 200:\n        with open(filename, \"wb\") as f:\n            f.write(await response.bytes())\n\nawait download(filename, \"dog.jpg\")",
      "metadata": {
        "trusted": true
      },
      "execution_count": null,
      "outputs": []
    },
    {
      "cell_type": "code",
      "source": "# Read image \nimg = Image.open('dog.jpg') \n  \n# Output Images \ndisplay(img)",
      "metadata": {
        "trusted": true
      },
      "execution_count": null,
      "outputs": []
    },
    {
      "cell_type": "markdown",
      "source": "# Data Analysis\n",
      "metadata": {}
    },
    {
      "cell_type": "markdown",
      "source": "In this section, you will learn how to approach data acquisition in various ways and obtain necessary insights from a dataset. By the end of this lab, you will successfully load the data into Jupyter Notebook and gain some fundamental insights via the Pandas Library.\n\nIn our case, the **Diabetes Dataset** is an online source and it is in CSV (comma separated value) format. Let's use this dataset as an example to practice data reading.\n",
      "metadata": {}
    },
    {
      "cell_type": "markdown",
      "source": "## About this Dataset\n\n**Context:** This dataset is originally from the **National Institute of Diabetes and Digestive and Kidney Diseases**. The objective of the dataset is to diagnostically predict whether or not a patient has diabetes, based on certain diagnostic measurements included in the dataset. Several constraints were placed on the selection of these instances from a larger database. In particular, all patients here are females at least 21 years of age of Pima Indian heritage.\n\n**Content:** The datasets consists of several medical predictor variables and one target variable, Outcome. Predictor variables includes the number of pregnancies the patient has had, their BMI, insulin level, age, and so on.\n",
      "metadata": {}
    },
    {
      "cell_type": "markdown",
      "source": "We have 768 rows and 9 columns. The first 8 columns represent the features and the last column represent the target/label.\n",
      "metadata": {}
    },
    {
      "cell_type": "code",
      "source": "# Import pandas library\nimport pandas as pd",
      "metadata": {
        "trusted": true
      },
      "execution_count": null,
      "outputs": []
    },
    {
      "cell_type": "code",
      "source": "filename = \"https://cf-courses-data.s3.us.cloud-object-storage.appdomain.cloud/IBMDeveloperSkillsNetwork-PY0101EN-SkillsNetwork/labs/Module%205/data/diabetes.csv\"\n\nasync def download(url, filename):\n    response = await pyfetch(url)\n    if response.status == 200:\n        with open(filename, \"wb\") as f:\n            f.write(await response.bytes())\n\nawait download(filename, \"diabetes.csv\")\ndf = pd.read_csv(\"diabetes.csv\")",
      "metadata": {
        "trusted": true
      },
      "execution_count": null,
      "outputs": []
    },
    {
      "cell_type": "markdown",
      "source": "After reading the dataset, we can use the **dataframe.head(n)** method to check the top n rows of the dataframe, where n is an integer. Contrary to **dataframe.head(n)**, **dataframe.tail(n)** will show you the bottom n rows of the dataframe.\n",
      "metadata": {}
    },
    {
      "cell_type": "code",
      "source": "# show the first 5 rows using dataframe.head() method\nprint(\"The first 5 rows of the dataframe\") \ndf.head(5)",
      "metadata": {
        "trusted": true
      },
      "execution_count": null,
      "outputs": []
    },
    {
      "cell_type": "markdown",
      "source": "To view the dimensions of the dataframe, we use the **`.shape`** parameter.\n",
      "metadata": {}
    },
    {
      "cell_type": "code",
      "source": "df.shape",
      "metadata": {
        "trusted": true
      },
      "execution_count": null,
      "outputs": []
    },
    {
      "cell_type": "markdown",
      "source": "# Statistical Overview of dataset\n",
      "metadata": {}
    },
    {
      "cell_type": "code",
      "source": "df.info()",
      "metadata": {
        "trusted": true
      },
      "execution_count": null,
      "outputs": []
    },
    {
      "cell_type": "markdown",
      "source": "This method prints information about a DataFrame including the index dtype and columns, non-null values and memory usage.\n",
      "metadata": {}
    },
    {
      "cell_type": "code",
      "source": "df.describe()",
      "metadata": {
        "trusted": true
      },
      "execution_count": null,
      "outputs": []
    },
    {
      "cell_type": "markdown",
      "source": "Pandas **describe()** is used to view some basic statistical details like percentile, mean, standard deviation, etc. of a data frame or a series of numeric values. When this method is applied to a series of strings, it returns a different output\n",
      "metadata": {}
    },
    {
      "cell_type": "markdown",
      "source": "### Identify and handle missing values\n",
      "metadata": {}
    },
    {
      "cell_type": "markdown",
      "source": "We use Python's built-in functions to identify these missing values. There are two methods to detect missing data:\n\n**.isnull()**\n\n**.notnull()**\n\nThe output is a boolean value indicating whether the value that is passed into the argument is in fact missing data.\n",
      "metadata": {}
    },
    {
      "cell_type": "code",
      "source": "missing_data = df.isnull()\nmissing_data.head(5)",
      "metadata": {
        "trusted": true
      },
      "execution_count": null,
      "outputs": []
    },
    {
      "cell_type": "markdown",
      "source": "\"True\" stands for missing value, while \"False\" stands for not missing value.\n",
      "metadata": {}
    },
    {
      "cell_type": "markdown",
      "source": "<h4>Count missing values in each column</h4>\n<p>\nUsing a for loop in Python, we can quickly figure out the number of missing values in each column. As mentioned above, \"True\" represents a missing value, \"False\"  means the value is present in the dataset.  In the body of the for loop the method \".value_counts()\"  counts the number of \"True\" values. \n</p>\n",
      "metadata": {}
    },
    {
      "cell_type": "code",
      "source": "for column in missing_data.columns.values.tolist():\n    print(column)\n    print (missing_data[column].value_counts())\n    print(\"\")    ",
      "metadata": {
        "trusted": true
      },
      "execution_count": null,
      "outputs": []
    },
    {
      "cell_type": "markdown",
      "source": "As you can see above, there is no missing values in the dataset.\n",
      "metadata": {}
    },
    {
      "cell_type": "markdown",
      "source": "<h3 id=\"correct_data_format\">Correct data format</h3>\n\n<p>Check all data is in the correct format (int, float, text or other).</p>\n\nIn Pandas, we use\n\n<p><b>.dtype()</b> to check the data type</p>\n<p><b>.astype()</b> to change the data type</p>\n\nNumerical variables should have type **'float'** or **'int'**.\n",
      "metadata": {}
    },
    {
      "cell_type": "code",
      "source": "df.dtypes",
      "metadata": {
        "trusted": true
      },
      "execution_count": null,
      "outputs": []
    },
    {
      "cell_type": "markdown",
      "source": "As we can see above, All columns have the correct data type.\n",
      "metadata": {}
    },
    {
      "cell_type": "markdown",
      "source": "# Visualization\n",
      "metadata": {}
    },
    {
      "cell_type": "markdown",
      "source": "**Visualization** is one of the best way to get insights from the dataset. **Seaborn** and **Matplotlib** are two of Python's most powerful visualization libraries.\n",
      "metadata": {}
    },
    {
      "cell_type": "code",
      "source": "# import libraries\nimport matplotlib.pyplot as plt\nimport seaborn as sns",
      "metadata": {
        "trusted": true
      },
      "execution_count": null,
      "outputs": []
    },
    {
      "cell_type": "code",
      "source": "labels= 'Diabetic','Not Diabetic'\nplt.pie(df['Outcome'].value_counts(),labels=labels,autopct='%0.02f%%')\nplt.legend()\nplt.show()",
      "metadata": {
        "trusted": true
      },
      "execution_count": null,
      "outputs": []
    },
    {
      "cell_type": "markdown",
      "source": "As you can see above, 65.10% females are Diabetic and 34.90% are Not Diabetic.\n",
      "metadata": {}
    },
    {
      "cell_type": "markdown",
      "source": "# Thank you for completing this Notebook\n",
      "metadata": {}
    },
    {
      "cell_type": "markdown",
      "source": "## Change Log\n\n| Date (YYYY-MM-DD) | Version | Changed By    | Change Description |\n| ----------------- | ------- | ------------- | ------------------ |\n| 2022-01-25        | 0.1     | Lakshmi Holla | added read_xml     |\n",
      "metadata": {}
    }
  ]
}