{
 "cells": [
  {
   "cell_type": "markdown",
   "id": "3a7d044c-fe2a-4ebf-aa4f-0533195a965a",
   "metadata": {},
   "outputs": [],
   "source": [
    "<h2>Table of Contents</h2>\n",
    "\n",
    "<div class=\"alert alert-block alert-info\" style=\"margin-top: 20px\">\n",
    "    <ul>\n",
    "        <li>\n",
    "            <a href=\"#index\">Overview of HTTP </a>\n",
    "            <ul>\n",
    "                <li><a href=\"#HTTP\">Uniform Resource Locator:URL</a></li>\n",
    "                 <li><a href=\"slice\">Request</a></li>\n",
    "                <li><a href=\"stride\">Response</a></li>\n",
    "            </ul>\n",
    "        </li>\n",
    "        <li>\n",
    "            <a href=\"#RP\">Requests in Python  </a>\n",
    "            <ul>\n",
    "                <li><a href=\"#get\">Get Request with URL Parameters</a></li>\n",
    "                <li><a href=\"#post\">Post Requests </a></li>\n",
    "\n",
    "</ul>\n",
    "    \n",
    "</div>\n",
    "\n",
    "<hr>\n"
   ]
  },
  {
   "cell_type": "markdown",
   "id": "d92edaec-5891-4bad-8ad0-747aeb197780",
   "metadata": {},
   "outputs": [],
   "source": [
    "<h2 id=\"\">Overview of HTTP </h2>\n"
   ]
  },
  {
   "cell_type": "markdown",
   "id": "7a62129b-409f-4aa4-ad14-ab7e272abc8a",
   "metadata": {},
   "outputs": [],
   "source": [
    "When you, the **client**, use a web page your browser sends an **HTTP** request to the **server** where the page is hosted. The server tries to find the desired **resource** by default \"<code>index.html</code>\". If your request is successful, the server will send the object to the client in an **HTTP response**. This includes information like the type of the **resource**, the length of the **resource**, and other information.   \n",
    "<p>\n",
    "The figure below represents the process. The circle on the left represents the client, the circle on the right represents the Web server. The table under the Web server represents a list of resources stored in the web server. In  this case an <code>HTML</code> file, <code>png</code> image, and <code>txt</code> file .\n",
    "</p>\n",
    "<p>\n",
    "The <b>HTTP</b> protocol allows you to send and receive information through the web including webpages, images, and other web resources. In this lab, we will provide an overview of the Requests library for interacting with the <code>HTTP</code> protocol. \n",
    "</p\n"
   ]
  },
  {
   "cell_type": "markdown",
   "id": "58908535-61ef-4cf1-ac8b-9766cfcce384",
   "metadata": {},
   "outputs": [],
   "source": [
    "<div class=\"alert alert-block alert-info\" style=\"margin-top: 20px\">\n",
    "         <img src=\"https://cf-courses-data.s3.us.cloud-object-storage.appdomain.cloud/IBMDeveloperSkillsNetwork-PY0101EN-SkillsNetwork/labs/Module%205/images/reqest_basics.png\" width=\"750\" align=\"center\">\n",
    "   \n",
    "</div>\n"
   ]
  },
  {
   "cell_type": "markdown",
   "id": "52b5429b-c336-47aa-9698-b39476da15fb",
   "metadata": {},
   "outputs": [],
   "source": [
    "<h2 id=\"URL\">Uniform Resource Locator: URL</h2>\n"
   ]
  },
  {
   "cell_type": "markdown",
   "id": "43bac573-63b8-4ec7-baa6-ef32e78102dc",
   "metadata": {},
   "outputs": [],
   "source": [
    "Uniform resource locator (URL) is the most popular way to find resources on the web.  We can break the URL into three parts. \n",
    "<ul>\n",
    "    <li><b>scheme</b> this is this protocol, for this lab it will always be <code>http://</code>  </li>\n",
    "    <li><b> Internet address or  Base URL </b> this will be used to find the location here are some examples: <code>www.ibm.com</code> and  <code> www.gitlab.com </code> </li>\n",
    "    <li><b>route</b> location on the web server for example: <code>/images/IDSNlogo.png</code> </li>\n",
    "</ul>\n"
   ]
  },
  {
   "cell_type": "markdown",
   "id": "d4a24972-a7e2-4f73-a1be-82e8ef544040",
   "metadata": {},
   "outputs": [],
   "source": [
    "You may also hear the term Uniform Resource Identifier (URI), URL are actually a subset of URIs. Another popular term is endpoint, this is the URL of an operation provided by a Web server.\n"
   ]
  },
  {
   "cell_type": "markdown",
   "id": "8c88ae58-b499-409f-944c-6738c7172c4c",
   "metadata": {},
   "outputs": [],
   "source": [
    "<h2 id=\"RE\">Request </h2>\n"
   ]
  },
  {
   "cell_type": "markdown",
   "id": "ff224001-e56a-4b10-b6ec-ce885c9b5e41",
   "metadata": {},
   "outputs": [],
   "source": [
    "The process can be broken into the <b>request</b> and <b>response </b> process.  The request using the get method is partially illustrated below. In the start line we have the <code>GET</code> method, this is an <code>HTTP</code> method. Also the location of the resource  <code>/index.html</code> and the <code>HTTP</code> version. The Request header passes additional information with an <code>HTTP</code> request:\n"
   ]
  },
  {
   "cell_type": "markdown",
   "id": "fd5d76d9-1b05-4d08-8530-399a83a59669",
   "metadata": {},
   "outputs": [],
   "source": [
    "<div class=\"alert alert-block alert-info\" style=\"margin-top: 20px\">\n",
    "         <img src=\"https://cf-courses-data.s3.us.cloud-object-storage.appdomain.cloud/IBMDeveloperSkillsNetwork-PY0101EN-SkillsNetwork/labs/Module%205/images/reqest_messege.png\" width=\"400\" align=\"center\">\n",
    "</div>\n"
   ]
  },
  {
   "cell_type": "markdown",
   "id": "fbef2908-eb3b-4da1-858a-991f0a574cc4",
   "metadata": {},
   "outputs": [],
   "source": [
    "When an <code>HTTP</code> request is made, an <code>HTTP</code> method is sent, this tells the server what action to perform.  A list of several <code>HTTP</code> methods is shown below. We will go over more examples later.\n"
   ]
  },
  {
   "cell_type": "markdown",
   "id": "d86a7727-cac7-46b3-b06d-114a3165129d",
   "metadata": {},
   "outputs": [],
   "source": [
    "\n",
    "<div class=\"alert alert-block alert-info\" style=\"margin-top: 20px\">\n",
    "         <img src=\"https://cf-courses-data.s3.us.cloud-object-storage.appdomain.cloud/IBMDeveloperSkillsNetwork-PY0101EN-SkillsNetwork/labs/Module%205/images/http_methods.png\" width=\"400\" align=\"center\">\n",
    "</div>\n"
   ]
  },
  {
   "cell_type": "markdown",
   "id": "7c9980e0-fe69-4af2-bff9-46aec5ea343b",
   "metadata": {},
   "outputs": [],
   "source": [
    "<h2 id=\"RES\">Response</h2>\n"
   ]
  },
  {
   "cell_type": "markdown",
   "id": "1219c636-0fe2-4ca8-adde-e8beb6385061",
   "metadata": {},
   "outputs": [],
   "source": [
    "The figure below represents the response; the response start line contains the version number <code>HTTP/1.0</code>, a status code (200) meaning success, followed by a descriptive phrase (OK). The response header contains useful information. Finally, we have the response body containing the requested file, an <code> HTML </code> document.  It should be noted that some requests have headers.\n"
   ]
  },
  {
   "cell_type": "markdown",
   "id": "fac3e567-be35-4fdb-95a9-2a5489697464",
   "metadata": {},
   "outputs": [],
   "source": [
    "<div class=\"alert alert-block alert-info\" style=\"margin-top: 20px\">\n",
    "         <img src=\"https://cf-courses-data.s3.us.cloud-object-storage.appdomain.cloud/IBMDeveloperSkillsNetwork-PY0101EN-SkillsNetwork/labs/Module%205/images/response_message.png\" width=\"400\" align=\"center\">\n",
    "</div>\n"
   ]
  },
  {
   "cell_type": "markdown",
   "id": "81f46760-4f77-41bf-bc3f-d95dece7b91a",
   "metadata": {},
   "outputs": [],
   "source": [
    "Some status code examples are shown in the table below, the prefix indicates the class. These are shown in yellow, with actual status codes shown in  white. Check out the following <a href=\"https://developer.mozilla.org/en-US/docs/Web/HTTP/Status?utm_medium=Exinfluencer&utm_source=Exinfluencer&utm_content=000026UJ&utm_term=10006555&utm_id=NA-SkillsNetwork-Channel-SkillsNetworkCoursesIBMDeveloperSkillsNetworkPY0101ENSkillsNetwork1005-2022-01-01\">link </a> for more descriptions.\n"
   ]
  },
  {
   "cell_type": "markdown",
   "id": "1bc6b69f-f714-4296-92f4-9ea3d69f1aa2",
   "metadata": {},
   "outputs": [],
   "source": [
    "\n",
    "<div class=\"alert alert-block alert-info\" style=\"margin-top: 20px\">\n",
    "         <img src=\"https://cf-courses-data.s3.us.cloud-object-storage.appdomain.cloud/IBMDeveloperSkillsNetwork-PY0101EN-SkillsNetwork/labs/Module%205/images/status_code.png\" width=\"300\" align=\"center\">\n",
    "</div>\n"
   ]
  },
  {
   "cell_type": "markdown",
   "id": "cbeb9a15-7179-49ca-94c4-37cf49575254",
   "metadata": {},
   "outputs": [],
   "source": [
    "<h2 id=\"RP\">Requests in Python</h2>\n"
   ]
  },
  {
   "cell_type": "markdown",
   "id": "7e82bdf5-d3ed-41b0-b636-c9c0af28b343",
   "metadata": {},
   "outputs": [],
   "source": [
    "Requests is a Python Library that allows you to send <code>HTTP/1.1</code> requests easily. We can import the library as follows:\n"
   ]
  },
  {
   "cell_type": "code",
   "id": "e61bc5cc-7edf-4808-830a-583052fb8edc",
   "metadata": {},
   "outputs": [],
   "source": [
    "import requests"
   ]
  },
  {
   "cell_type": "markdown",
   "id": "22113069-4993-468e-990d-8824e2324679",
   "metadata": {},
   "outputs": [],
   "source": [
    "We will also use the following libraries: \n"
   ]
  },
  {
   "cell_type": "code",
   "id": "73d06feb-fa9c-4030-bdf8-15c3af62eab0",
   "metadata": {},
   "outputs": [],
   "source": [
    "import os \n",
    "from PIL import Image\n",
    "from IPython.display import IFrame"
   ]
  },
  {
   "cell_type": "markdown",
   "id": "e1083a22-7fd0-4bea-a679-0069ca889ba5",
   "metadata": {},
   "outputs": [],
   "source": [
    " You can make a <code>GET</code> request via the method <code>get</code> to www.ibm.com: \n"
   ]
  },
  {
   "cell_type": "code",
   "id": "4d06fb9b-dc9e-4542-9127-eafa5e332e1a",
   "metadata": {},
   "outputs": [],
   "source": [
    "url='https://www.ibm.com/'\n",
    "r=requests.get(url)\n"
   ]
  },
  {
   "cell_type": "markdown",
   "id": "967caa1d-22ed-4662-b278-54dcf18f88ab",
   "metadata": {},
   "outputs": [],
   "source": [
    "We have the response object <code>r</code>, this has information about the request, like the status of the request. We can view the status code using the attribute <code>status_code</code>. \n"
   ]
  },
  {
   "cell_type": "code",
   "id": "e088a5d6-1f44-4c5f-88e0-fc1952c8d866",
   "metadata": {},
   "outputs": [],
   "source": [
    "r.status_code"
   ]
  },
  {
   "cell_type": "markdown",
   "id": "1885ff85-033c-4729-b5cf-be7766ec4c18",
   "metadata": {},
   "outputs": [],
   "source": [
    "You can view the request headers:\n"
   ]
  },
  {
   "cell_type": "code",
   "id": "f0633c41-027a-4b3d-83b0-14ee458b0511",
   "metadata": {},
   "outputs": [],
   "source": [
    "print(r.request.headers)"
   ]
  },
  {
   "cell_type": "markdown",
   "id": "c544faa9-16b3-4446-be9a-164acb14d452",
   "metadata": {},
   "outputs": [],
   "source": [
    "You can view the request body, in the following line, as there is no body for a get request we get a <code>None</code>:\n"
   ]
  },
  {
   "cell_type": "code",
   "id": "fed86848-c1e6-49a8-96ab-2078d588e3ac",
   "metadata": {},
   "outputs": [],
   "source": [
    "print(\"request body:\", r.request.body)"
   ]
  },
  {
   "cell_type": "markdown",
   "id": "8643ccd9-c080-4157-8be6-6ec4ae882697",
   "metadata": {},
   "outputs": [],
   "source": [
    " You can view the <code>HTTP</code> response header using the attribute <code>headers</code>. This returns a python dictionary of <code>HTTP</code> response headers. \n"
   ]
  },
  {
   "cell_type": "code",
   "id": "7e196814-f14c-4e9a-a41a-89be3c86fe95",
   "metadata": {},
   "outputs": [],
   "source": [
    "header=r.headers\n",
    "print(r.headers)"
   ]
  },
  {
   "cell_type": "markdown",
   "id": "c0461aad-2589-4ce6-8e4d-f4ce2d31ff73",
   "metadata": {},
   "outputs": [],
   "source": [
    "We can obtain the date the request was sent using the key <code>Date</code>\n"
   ]
  },
  {
   "cell_type": "code",
   "id": "ee0a0d47-cdd8-47f1-abfd-ed45883cd91a",
   "metadata": {},
   "outputs": [],
   "source": [
    "header['date']"
   ]
  },
  {
   "cell_type": "markdown",
   "id": "2740936c-e21e-4cc7-8287-dbfefc793690",
   "metadata": {},
   "outputs": [],
   "source": [
    "<code>Content-Type</code> indicates the type of data:\n"
   ]
  },
  {
   "cell_type": "code",
   "id": "72322129-0f4f-49c6-ac7a-6a642dafe043",
   "metadata": {},
   "outputs": [],
   "source": [
    "header['Content-Type']"
   ]
  },
  {
   "cell_type": "markdown",
   "id": "fe5acbe8-aa78-40eb-871d-d666dc0ee3ee",
   "metadata": {},
   "outputs": [],
   "source": [
    "You can also check the <code>encoding</code>:\n"
   ]
  },
  {
   "cell_type": "code",
   "id": "ba4c7df3-5a93-4466-8c00-3a5180ead3ad",
   "metadata": {},
   "outputs": [],
   "source": [
    " r.encoding"
   ]
  },
  {
   "cell_type": "markdown",
   "id": "b53056ca-6d9a-4c3b-900b-c7a56853ae47",
   "metadata": {},
   "outputs": [],
   "source": [
    "As the <code>Content-Type</code> is <code>text/html</code> we can use the attribute <code>text</code> to display the <code>HTML</code> in the body. We can review the first 100 characters:\n"
   ]
  },
  {
   "cell_type": "code",
   "id": "93d0be6b-02b0-41d5-9a94-eb21d02594ac",
   "metadata": {},
   "outputs": [],
   "source": [
    "r.text[0:100]"
   ]
  },
  {
   "cell_type": "markdown",
   "id": "3dc44763-7541-4f24-88c8-cc373ce00208",
   "metadata": {},
   "outputs": [],
   "source": [
    "You can load other types of data for non-text requests, like images. Consider the URL of the following image:\n"
   ]
  },
  {
   "cell_type": "code",
   "id": "3be078f3-9691-4d23-9af6-59922071844f",
   "metadata": {},
   "outputs": [],
   "source": [
    "# Use single quotation marks for defining string\n",
    "url='https://cf-courses-data.s3.us.cloud-object-storage.appdomain.cloud/IBMDeveloperSkillsNetwork-PY0101EN-SkillsNetwork/IDSNlogo.png'"
   ]
  },
  {
   "cell_type": "markdown",
   "id": "9f70696b-1c6a-4b30-90aa-37ece0636212",
   "metadata": {},
   "outputs": [],
   "source": [
    "We can make a get request:\n"
   ]
  },
  {
   "cell_type": "code",
   "id": "372a4d55-e199-441e-9973-852687f948ee",
   "metadata": {},
   "outputs": [],
   "source": [
    "r=requests.get(url)"
   ]
  },
  {
   "cell_type": "markdown",
   "id": "dfe91e41-0a57-43cb-a1d8-82ff2378e5c9",
   "metadata": {},
   "outputs": [],
   "source": [
    "We can look at the response header:\n"
   ]
  },
  {
   "cell_type": "code",
   "id": "ebb6e4a7-2adf-4d0b-82e1-d44cadc8b6ab",
   "metadata": {},
   "outputs": [],
   "source": [
    "print(r.headers)"
   ]
  },
  {
   "cell_type": "markdown",
   "id": "f1a0f018-d5eb-4227-ac7e-5134b0d58be6",
   "metadata": {},
   "outputs": [],
   "source": [
    "We can see the <code>'Content-Type'</code>\n"
   ]
  },
  {
   "cell_type": "code",
   "id": "883a36cb-786f-4341-8d3b-e41ed1012f47",
   "metadata": {},
   "outputs": [],
   "source": [
    "r.headers['Content-Type']"
   ]
  },
  {
   "cell_type": "markdown",
   "id": "0b610f7d-2be7-4dd1-a684-1ba4eaa3de0f",
   "metadata": {},
   "outputs": [],
   "source": [
    "An image is a response object that contains the image as a <a href=\"https://docs.python.org/3/glossary.html?utm_medium=Exinfluencer&utm_source=Exinfluencer&utm_content=000026UJ&utm_term=10006555&utm_id=NA-SkillsNetwork-Channel-SkillsNetworkCoursesIBMDeveloperSkillsNetworkPY0101ENSkillsNetwork1005-2022-01-01#term-bytes-like-object\">bytes-like object</a>. As a result, we must save it using a file object. First, we specify the file path and\n",
    "name \n"
   ]
  },
  {
   "cell_type": "code",
   "id": "b3d45280-899d-496a-be0d-ae614a73df57",
   "metadata": {},
   "outputs": [],
   "source": [
    "path=os.path.join(os.getcwd(),'image.png')\n",
    "path"
   ]
  },
  {
   "cell_type": "markdown",
   "id": "964f0d3d-669a-4277-abcc-7c9fcf536dfb",
   "metadata": {},
   "outputs": [],
   "source": [
    "We save the file, in order to access the body of the response we use the attribute <code>content</code> then save it using the <code>open</code> function and write <code>method</code>: \n"
   ]
  },
  {
   "cell_type": "code",
   "id": "11fd6fd4-1e9b-4c30-804a-f13b7d36f26a",
   "metadata": {},
   "outputs": [],
   "source": [
    "with open(path,'wb') as f:\n",
    "    f.write(r.content)"
   ]
  },
  {
   "cell_type": "markdown",
   "id": "1e876fbf-e05c-45d2-b48a-8cfb8b551c98",
   "metadata": {},
   "outputs": [],
   "source": [
    "We can view the image:\n"
   ]
  },
  {
   "cell_type": "code",
   "id": "fd57b48f-75e0-41ef-bf62-2c2b6792e377",
   "metadata": {},
   "outputs": [],
   "source": [
    "Image.open(path)  "
   ]
  },
  {
   "cell_type": "markdown",
   "id": "9df16b1f-ebd0-4879-9caf-5cf81464a342",
   "metadata": {},
   "outputs": [],
   "source": [
    "<h3>Question 1: write <a href=\"https://www.gnu.org/software/wget/?utm_medium=Exinfluencer&utm_source=Exinfluencer&utm_content=000026UJ&utm_term=10006555&utm_id=NA-SkillsNetwork-Channel-SkillsNetworkCoursesIBMDeveloperSkillsNetworkPY0101ENSkillsNetwork1005-2022-01-01\"><code> wget </code></a></h3>\n"
   ]
  },
  {
   "cell_type": "markdown",
   "id": "bf465f0b-712e-458d-a9f9-4adf9b79f20c",
   "metadata": {},
   "outputs": [],
   "source": [
    "In the previous section, we used the <code>wget</code> function to retrieve content from the web server as shown below.  Write the python code to perform the same task. The code should be the same as the one used to download the image, but the file name should be <code>'Example1.txt'</code>. \n"
   ]
  },
  {
   "cell_type": "markdown",
   "id": "bddfa02c-f6ec-406b-a945-2bb86704aa6e",
   "metadata": {},
   "outputs": [],
   "source": [
    "<code>!wget -O /resources/data/Example1.txt https://cf-courses-data.s3.us.cloud-object-storage.appdomain.cloud/IBMDeveloperSkillsNetwork-PY0101EN-SkillsNetwork/labs/Module%205/data/Example1.txt</code>\n"
   ]
  },
  {
   "cell_type": "code",
   "id": "397a77d7-472d-4b4a-8cf3-dc9b73c82e26",
   "metadata": {},
   "outputs": [],
   "source": []
  },
  {
   "cell_type": "markdown",
   "id": "bbbcff20-6683-425e-b68e-959f3817f2ac",
   "metadata": {},
   "outputs": [],
   "source": [
    "<details><summary>Click here for the solution</summary>\n",
    "\n",
    "```python\n",
    "url='https://cf-courses-data.s3.us.cloud-object-storage.appdomain.cloud/IBMDeveloperSkillsNetwork-PY0101EN-SkillsNetwork/labs/Module%205/data/Example1.txt'\n",
    "path=os.path.join(os.getcwd(),'example1.txt')\n",
    "r=requests.get(url)\n",
    "with open(path,'wb') as f:\n",
    "    f.write(r.content)\n",
    "\n",
    "```\n",
    "\n",
    "</details>\n",
    " \n"
   ]
  },
  {
   "cell_type": "markdown",
   "id": "81a8a0bd-b2c6-4c8e-9cb1-0893cc56c295",
   "metadata": {},
   "outputs": [],
   "source": [
    "<h2 id=\"URL_P\">Get Request with URL Parameters </h2>\n"
   ]
  },
  {
   "cell_type": "markdown",
   "id": "7b8567a2-98d6-4a7b-a269-a607934f7828",
   "metadata": {},
   "outputs": [],
   "source": [
    "You can use the <b>GET</b> method to modify the results of your query, for example retrieving data from an API. We send a <b>GET</b> request to the  server. Like before we have the <b>Base URL</b>, in the <b>Route</b> we append <code>/get</code>, this indicates we would like to preform a <code>GET</code> request. This is demonstrated in the following table:\n"
   ]
  },
  {
   "cell_type": "markdown",
   "id": "eab1ef0c-1de4-42d1-966f-e1412b0376c9",
   "metadata": {},
   "outputs": [],
   "source": [
    "<div class=\"alert alert-block alert-info\" style=\"margin-top: 20px\">\n",
    "         <img src=\"https://cf-courses-data.s3.us.cloud-object-storage.appdomain.cloud/IBMDeveloperSkillsNetwork-PY0101EN-SkillsNetwork/labs/Module%205/images/base_URL_Route.png\" width=\"400\" align=\"center\">\n",
    "</div>\n"
   ]
  },
  {
   "cell_type": "markdown",
   "id": "d3ae6fb6-dcfb-4524-8059-b0dec33f1d26",
   "metadata": {},
   "outputs": [],
   "source": [
    "The Base URL is for <code>http://httpbin.org/</code> is a simple HTTP Request & Response Service. The <code>URL</code> in Python is given by:\n"
   ]
  },
  {
   "cell_type": "code",
   "id": "beaf0562-f34e-4fc4-ad1e-3423a629cc8b",
   "metadata": {},
   "outputs": [],
   "source": [
    "url_get='http://httpbin.org/get'"
   ]
  },
  {
   "cell_type": "markdown",
   "id": "57b42cf6-9855-4d95-b44d-f88668cace94",
   "metadata": {},
   "outputs": [],
   "source": [
    "A <a href=\"https://en.wikipedia.org/wiki/Query_string?utm_medium=Exinfluencer&utm_source=Exinfluencer&utm_content=000026UJ&utm_term=10006555&utm_id=NA-SkillsNetwork-Channel-SkillsNetworkCoursesIBMDeveloperSkillsNetworkPY0101ENSkillsNetwork1005-2022-01-01\">query string</a> is a part of a uniform resource locator (URL), this sends other information to the web server. The start of the query is a <code>?</code>, followed by a series of parameter and value pairs, as shown in the table below. The first parameter name is <code>name</code> and the value is <code>Joseph</code>. The second parameter name is <code>ID</code> and the Value is <code>123</code>. Each pair, parameter, and value is separated by an equals sign, <code>=</code>.\n",
    "The series of pairs is separated by the ampersand <code>&</code>.\n"
   ]
  },
  {
   "cell_type": "markdown",
   "id": "c40254b1-d98e-4c39-95df-4ee585191b4d",
   "metadata": {},
   "outputs": [],
   "source": [
    "<div class=\"alert alert-block alert-info\" style=\"margin-top: 20px\">\n",
    "         <img src=\"https://cf-courses-data.s3.us.cloud-object-storage.appdomain.cloud/IBMDeveloperSkillsNetwork-PY0101EN-SkillsNetwork/labs/Module%205/images/query_string.png\" width=\"500\" align=\"center\">\n",
    "</div>\n"
   ]
  },
  {
   "cell_type": "markdown",
   "id": "b7214870-0346-4035-9719-3efd46371d7d",
   "metadata": {},
   "outputs": [],
   "source": [
    "To create a Query string, add a dictionary. The keys are the parameter names and the values are the value of the Query string.\n"
   ]
  },
  {
   "cell_type": "code",
   "id": "9117ffef-b195-4af0-a447-c2c47abf3625",
   "metadata": {},
   "outputs": [],
   "source": [
    "payload={\"name\":\"Joseph\",\"ID\":\"123\"}"
   ]
  },
  {
   "cell_type": "markdown",
   "id": "39293ad4-43da-458b-93d4-9100db3bb1db",
   "metadata": {},
   "outputs": [],
   "source": [
    "Then passing the dictionary <code>payload</code> to the <code>params</code> parameter of the <code> get()</code> function:\n"
   ]
  },
  {
   "cell_type": "code",
   "id": "38adc4c5-dac6-4097-8c6f-e8aee9c3c1de",
   "metadata": {},
   "outputs": [],
   "source": [
    "r=requests.get(url_get,params=payload)"
   ]
  },
  {
   "cell_type": "markdown",
   "id": "0316ab16-ec1d-42e7-84c2-0f1adda2171c",
   "metadata": {},
   "outputs": [],
   "source": [
    "\n",
    "We can print out the <code>URL</code> and see the name and values \n"
   ]
  },
  {
   "cell_type": "code",
   "id": "3772cd10-3df0-40ef-9d61-8d6a51dd06c8",
   "metadata": {},
   "outputs": [],
   "source": [
    "r.url"
   ]
  },
  {
   "cell_type": "markdown",
   "id": "d5238e71-409b-4e5a-9e79-a50689c60216",
   "metadata": {},
   "outputs": [],
   "source": [
    "There is no request body \n"
   ]
  },
  {
   "cell_type": "code",
   "id": "e0e138d5-06ba-4784-bdd6-17798f1e5b32",
   "metadata": {},
   "outputs": [],
   "source": [
    "print(\"request body:\", r.request.body)"
   ]
  },
  {
   "cell_type": "markdown",
   "id": "17494eb0-3119-4a6e-9e2b-0a7064c104f0",
   "metadata": {},
   "outputs": [],
   "source": [
    "We can print out the status code\n"
   ]
  },
  {
   "cell_type": "code",
   "id": "8419ce12-6679-417b-970a-1301cee6636b",
   "metadata": {},
   "outputs": [],
   "source": [
    "print(r.status_code)"
   ]
  },
  {
   "cell_type": "markdown",
   "id": "5dd4dafb-9e8c-4d9a-bea8-6ea55b3410cc",
   "metadata": {},
   "outputs": [],
   "source": [
    "We can view the response as text:\n"
   ]
  },
  {
   "cell_type": "code",
   "id": "8e5fa0ff-f198-4451-a7b8-5f17a205ee90",
   "metadata": {},
   "outputs": [],
   "source": [
    "print(r.text)"
   ]
  },
  {
   "cell_type": "markdown",
   "id": "add59392-d8c5-4c3f-a5c0-5e6138589636",
   "metadata": {},
   "outputs": [],
   "source": [
    "We can look at the <code>'Content-Type'</code>.\n"
   ]
  },
  {
   "cell_type": "code",
   "id": "3e9fbe09-9bb3-493f-b8da-014cb9a426f0",
   "metadata": {},
   "outputs": [],
   "source": [
    "r.headers['Content-Type']"
   ]
  },
  {
   "cell_type": "markdown",
   "id": "9dfc51f3-8bf9-4444-b066-d059776c33b9",
   "metadata": {},
   "outputs": [],
   "source": [
    "As the content <code>'Content-Type'</code> is in the <code>JSON</code> format we can use the method <code>json()</code>, it returns a Python <code>dict</code>:\n"
   ]
  },
  {
   "cell_type": "code",
   "id": "ce4f70c2-2892-447b-b362-5e36585bde23",
   "metadata": {},
   "outputs": [],
   "source": [
    "r.json()"
   ]
  },
  {
   "cell_type": "markdown",
   "id": "ceba460c-a38c-4397-be32-eb96adba29a9",
   "metadata": {},
   "outputs": [],
   "source": [
    "The key <code>args</code> has the name and values:\n"
   ]
  },
  {
   "cell_type": "code",
   "id": "6928e0c7-6441-4ba3-b013-0427ea74de90",
   "metadata": {},
   "outputs": [],
   "source": [
    "r.json()['args']"
   ]
  },
  {
   "cell_type": "markdown",
   "id": "6192ca54-0297-4ce0-9733-f54258a01708",
   "metadata": {},
   "outputs": [],
   "source": [
    "<h2 id=\"POST\">Post Requests  </h2>\n"
   ]
  },
  {
   "cell_type": "markdown",
   "id": "7fd87b87-e744-45b2-84ec-d3215a2bd8fb",
   "metadata": {},
   "outputs": [],
   "source": [
    "Like a <code>GET</code> request, a <code>POST</code> is used to send data to a server, but the <code>POST</code> request sends the data in a request body. In order to send the Post Request in Python, in the <code>URL</code> we change the route to <code>POST</code>:\n"
   ]
  },
  {
   "cell_type": "code",
   "id": "0a430c1e-cbe7-4228-95aa-9ff18c6ab764",
   "metadata": {},
   "outputs": [],
   "source": [
    "url_post='http://httpbin.org/post'"
   ]
  },
  {
   "cell_type": "markdown",
   "id": "9492abb2-d785-4379-b601-6d258abe8663",
   "metadata": {},
   "outputs": [],
   "source": [
    "This endpoint will expect data as a file or as a form. A form is convenient way to configure an HTTP request to send data to a server.\n"
   ]
  },
  {
   "cell_type": "markdown",
   "id": "42f27352-b02a-432a-823c-2d4e32dc8a42",
   "metadata": {},
   "outputs": [],
   "source": [
    "To make a <code>POST</code> request we use the <code>post()</code> function, the variable <code>payload</code> is passed to the parameter <code> data </code>:\n"
   ]
  },
  {
   "cell_type": "code",
   "id": "e71ac5af-64bc-48d1-968f-18a526918f8f",
   "metadata": {},
   "outputs": [],
   "source": [
    "r_post=requests.post(url_post,data=payload)"
   ]
  },
  {
   "cell_type": "markdown",
   "id": "afbdd32c-a816-4bd3-a9c7-48862898db17",
   "metadata": {},
   "outputs": [],
   "source": [
    "Comparing the URL from the response object of the <code>GET</code> and <code>POST</code> request we see the <code>POST</code> request has no name or value pairs.\n"
   ]
  },
  {
   "cell_type": "code",
   "id": "544a6964-b710-4185-800c-fe67b93d5ca7",
   "metadata": {},
   "outputs": [],
   "source": [
    "print(\"POST request URL:\",r_post.url )\n",
    "print(\"GET request URL:\",r.url)"
   ]
  },
  {
   "cell_type": "markdown",
   "id": "7080e3ee-c6e2-4545-a4ca-346e2770e701",
   "metadata": {},
   "outputs": [],
   "source": [
    "We can compare the <code>POST</code> and <code>GET</code> request body, we see only the <code>POST</code> request has a body:\n"
   ]
  },
  {
   "cell_type": "code",
   "id": "6f15b566-5892-4d11-9dc7-ceea844686dc",
   "metadata": {},
   "outputs": [],
   "source": [
    "print(\"POST request body:\",r_post.request.body)\n",
    "print(\"GET request body:\",r.request.body)"
   ]
  },
  {
   "cell_type": "markdown",
   "id": "744a9245-dfe4-45c9-9744-2321d57b6493",
   "metadata": {},
   "outputs": [],
   "source": [
    "We can view the form as well:\n"
   ]
  },
  {
   "cell_type": "code",
   "id": "2abd7817-00c6-4bf6-b763-83a34544cf3e",
   "metadata": {},
   "outputs": [],
   "source": [
    "r_post.json()['form']"
   ]
  },
  {
   "cell_type": "markdown",
   "id": "06edb304-8431-4597-abd2-d8525ba65b01",
   "metadata": {},
   "outputs": [],
   "source": [
    "There is a lot more you can do. Check out <a href=\"https://requests.readthedocs.io/en/master/?utm_medium=Exinfluencer&utm_source=Exinfluencer&utm_content=000026UJ&utm_term=10006555&utm_id=NA-SkillsNetwork-Channel-SkillsNetworkCoursesIBMDeveloperSkillsNetworkPY0101ENSkillsNetwork1005-2022-01-01\">Requests </a> for more.\n"
   ]
  },
  {
   "cell_type": "markdown",
   "id": "7935af70-bcb6-4d02-9fef-387c5874e31f",
   "metadata": {},
   "outputs": [],
   "source": [
    "<hr>\n"
   ]
  }
 ],
 "metadata": {
  "kernelspec": {
   "display_name": "Python",
   "language": "python",
   "name": "conda-env-python-py"
  },
  "language_info": {
   "name": ""
  }
 },
 "nbformat": 4,
 "nbformat_minor": 4
}
