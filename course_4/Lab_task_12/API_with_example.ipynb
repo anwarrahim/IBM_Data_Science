{
 "cells": [
  {
   "cell_type": "markdown",
   "id": "a894c135-ca4b-4d68-8758-12a9b324297f",
   "metadata": {},
   "outputs": [],
   "source": [
    "The purpose of this notebook is to provide more examples on how to use simple APIs. As you have already learned from previous videos and notebooks, API stands for Application Programming Interface and is a software intermediary that allows two applications to talk to each other. \n",
    "\n",
    "The advantages of using APIs:\n",
    " *   **Automation**. Less human effort is required and workflows can be easily updated to become faster and more      \n",
    "     productive.\n",
    " *   **Efficiency**. It allows to use the capabilities of one of the already developed APIs than to try to \n",
    "     independently implement some functionality from scratch.\n",
    " \n",
    "The disadvantage of using APIs:\n",
    " *   **Security**. If the API is poorly integrated, it means it will be vulnerable to attacks, resulting in data breeches or losses having financial or reputation implications.\n",
    "\n",
    "One of the applications we will use in this notebook is Random User Generator. RandomUser is an open-source, free API providing developers with randomly generated users to be used as placeholders for testing purposes. This makes the tool similar to Lorem Ipsum, but is a placeholder for people instead of text. The API can return multiple results, as well as specify generated user details such as gender, email, image, username, address, title, first and last name, and more. More information on [RandomUser](https://randomuser.me/documentation?utm_medium=Exinfluencer&utm_source=Exinfluencer&utm_content=000026UJ&utm_term=10006555&utm_id=NA-SkillsNetwork-Channel-SkillsNetworkCoursesIBMDeveloperSkillsNetworkPY0101ENSkillsNetwork1005-2023-01-01#intro) can be found here.\n",
    "\n",
    "Another example of simple API we will use in this notebook is Fruitvice application. The Fruitvice API webservice which provides data for all kinds of fruit! You can use Fruityvice to find out interesting information about fruit and educate yourself. The webservice is completely free to use and contribute to.\n"
   ]
  },
  {
   "cell_type": "markdown",
   "id": "a86bf473-86a9-445e-8907-48597e1e5163",
   "metadata": {},
   "outputs": [],
   "source": [
    "## Example 1: RandomUser API\n",
    "Bellow are Get Methods parameters that we can generate. For more information on the parameters, please visit this [documentation](https://randomuser.me/documentation?utm_medium=Exinfluencer&utm_source=Exinfluencer&utm_content=000026UJ&utm_term=10006555&utm_id=NA-SkillsNetwork-Channel-SkillsNetworkCoursesIBMDeveloperSkillsNetworkPY0101ENSkillsNetwork1005-2023-01-01) page.\n"
   ]
  },
  {
   "cell_type": "markdown",
   "id": "138cef97-dc95-4cf8-b14f-cdec71864137",
   "metadata": {},
   "outputs": [],
   "source": [
    "## **Get Methods**\n",
    "\n",
    "- get_cell()\n",
    "- get_city()\n",
    "- get_dob()\n",
    "- get_email()\n",
    "- get_first_name()\n",
    "- get_full_name()\n",
    "- get_gender()\n",
    "- get_id()\n",
    "- get_id_number()\n",
    "- get_id_type()\n",
    "- get_info()\n",
    "- get_last_name()\n",
    "- get_login_md5()\n",
    "- get_login_salt()\n",
    "- get_login_sha1()\n",
    "- get_login_sha256()\n",
    "- get_nat()\n",
    "- get_password()\n",
    "- get_phone()\n",
    "- get_picture()\n",
    "- get_postcode()\n",
    "- get_registered()\n",
    "- get_state()\n",
    "- get_street()\n",
    "- get_username()\n",
    "- get_zipcode()\n"
   ]
  },
  {
   "cell_type": "markdown",
   "id": "0ee17ea4-d201-4268-a32e-86033b138dee",
   "metadata": {},
   "outputs": [],
   "source": [
    "To start using the API you can install the `randomuser` library running the `pip install` command.\n"
   ]
  },
  {
   "cell_type": "code",
   "id": "4c1bcc35-173d-43f9-b141-c36adc8b12df",
   "metadata": {
    "ExecuteTime": {
     "start_time": "2023-05-24T17:12:22.280931Z",
     "end_time": "2023-05-24T17:12:37.232345Z"
    }
   },
   "outputs": [
    {
     "name": "stdout",
     "output_type": "stream",
     "text": [
      "Collecting randomuser\n",
      "  Downloading randomuser-1.6.tar.gz (5.0 kB)\n",
      "  Preparing metadata (setup.py): started\n",
      "  Preparing metadata (setup.py): finished with status 'done'\n",
      "Building wheels for collected packages: randomuser\n",
      "  Building wheel for randomuser (setup.py): started\n",
      "  Building wheel for randomuser (setup.py): finished with status 'done'\n",
      "  Created wheel for randomuser: filename=randomuser-1.6-py3-none-any.whl size=5092 sha256=bf4aa90b18f0b67be6224924034fd2c448f46e601f15393abe4f7a9994a1ec27\n",
      "  Stored in directory: c:\\users\\anwar\\appdata\\local\\pip\\cache\\wheels\\8e\\47\\49\\3724182e7f2e58cbf9b02c1ac1ed51b769cb62cf0ab3a1ee4e\n",
      "Successfully built randomuser\n",
      "Installing collected packages: randomuser\n",
      "Successfully installed randomuser-1.6\n"
     ]
    }
   ],
   "source": [
    "!pip install randomuser"
   ],
   "execution_count": 1
  },
  {
   "cell_type": "markdown",
   "id": "bf606293-0b77-4c6d-b07a-4e8d750cd0d0",
   "metadata": {},
   "outputs": [],
   "source": [
    "Then, we will load the necessary libraries.\n"
   ]
  },
  {
   "cell_type": "code",
   "id": "81d0f4b3-8ab2-475b-8883-34dc0f05ab34",
   "metadata": {
    "ExecuteTime": {
     "start_time": "2023-05-24T17:12:37.223341Z",
     "end_time": "2023-05-24T17:12:38.056226Z"
    }
   },
   "outputs": [],
   "source": [
    "from randomuser import RandomUser\n",
    "import pandas as pd"
   ],
   "execution_count": 2
  },
  {
   "cell_type": "markdown",
   "id": "39d46709-ba76-48af-8493-834e167ecbf3",
   "metadata": {},
   "outputs": [],
   "source": [
    "First, we will create a random user object, r.\n"
   ]
  },
  {
   "cell_type": "code",
   "id": "6cce933c-f790-4876-a08f-5004ed8f7c02",
   "metadata": {
    "ExecuteTime": {
     "start_time": "2023-05-24T17:12:38.060238Z",
     "end_time": "2023-05-24T17:12:39.194521Z"
    }
   },
   "outputs": [],
   "source": [
    "r = RandomUser()"
   ],
   "execution_count": 3
  },
  {
   "cell_type": "markdown",
   "id": "a6a6490c-9035-4e68-b38c-dc2530be7539",
   "metadata": {},
   "outputs": [],
   "source": [
    "Then, using `generate_users()` function, we get a list of random 10 users.\n"
   ]
  },
  {
   "cell_type": "code",
   "id": "aee91fed-4b47-4c2e-96c9-68841b2d2c83",
   "metadata": {
    "ExecuteTime": {
     "start_time": "2023-05-24T17:12:39.167455Z",
     "end_time": "2023-05-24T17:12:39.784222Z"
    }
   },
   "outputs": [],
   "source": [
    "some_list = r.generate_users(10)"
   ],
   "execution_count": 4
  },
  {
   "cell_type": "code",
   "id": "96ce68c3-839f-40ab-acb8-6762d489e4c9",
   "metadata": {
    "ExecuteTime": {
     "start_time": "2023-05-24T17:12:39.792223Z",
     "end_time": "2023-05-24T17:12:39.801225Z"
    }
   },
   "outputs": [
    {
     "data": {
      "text/plain": "[<randomuser.RandomUser at 0x1e2dfdcd690>,\n <randomuser.RandomUser at 0x1e2dfdcf070>,\n <randomuser.RandomUser at 0x1e2e030d6c0>,\n <randomuser.RandomUser at 0x1e2e030d960>,\n <randomuser.RandomUser at 0x1e2e2da6f50>,\n <randomuser.RandomUser at 0x1e2e2da66b0>,\n <randomuser.RandomUser at 0x1e2e2da6a40>,\n <randomuser.RandomUser at 0x1e2e2da67d0>,\n <randomuser.RandomUser at 0x1e2e2da69b0>,\n <randomuser.RandomUser at 0x1e2e2da6980>]"
     },
     "execution_count": 5,
     "metadata": {},
     "output_type": "execute_result"
    }
   ],
   "source": [
    "some_list"
   ],
   "execution_count": 5
  },
  {
   "cell_type": "markdown",
   "id": "f4a6962d-3cd6-4bae-9af6-9ea218efb3ec",
   "metadata": {},
   "outputs": [],
   "source": [
    "The **\"Get Methods\"** functions mentioned at the beginning of this notebook, can generate the required parameters to construct a dataset. For example, to get full name, we call `get_full_name()` function.\n"
   ]
  },
  {
   "cell_type": "code",
   "id": "5e1e73af-31dd-4193-8e89-03493c4b6d5e",
   "metadata": {
    "ExecuteTime": {
     "start_time": "2023-05-24T17:12:39.803219Z",
     "end_time": "2023-05-24T17:12:39.860200Z"
    }
   },
   "outputs": [],
   "source": [
    "name = r.get_full_name()"
   ],
   "execution_count": 6
  },
  {
   "cell_type": "markdown",
   "id": "06dfde57-d801-40aa-9755-f74b2d0f4b68",
   "metadata": {},
   "outputs": [],
   "source": [
    "Let's say we only need 10 users with full names and their email addresses. We can write a \"for-loop\" to print these 10 users.\n"
   ]
  },
  {
   "cell_type": "code",
   "id": "7b017776-c645-4397-af6f-9a95c4abc0f3",
   "metadata": {
    "ExecuteTime": {
     "start_time": "2023-05-24T17:12:39.819174Z",
     "end_time": "2023-05-24T17:12:39.875203Z"
    }
   },
   "outputs": [
    {
     "name": "stdout",
     "output_type": "stream",
     "text": [
      "Mia Davis   mia.davis@example.com\n",
      "Zara Thomas   zara.thomas@example.com\n",
      "Isabella Young   isabella.young@example.com\n",
      "آرش حیدری   arsh.hydry@example.com\n",
      "Zakaria Taksdal   zakaria.taksdal@example.com\n",
      "Tony Wade   tony.wade@example.com\n",
      "Katrine Pedersen   katrine.pedersen@example.com\n",
      "Carolyn Wallace   carolyn.wallace@example.com\n",
      "Jonas Møller   jonas.moller@example.com\n",
      "Capucine Gauthier   capucine.gauthier@example.com\n"
     ]
    }
   ],
   "source": [
    "for user in some_list:\n",
    "    print (user.get_full_name(),\" \",user.get_email())"
   ],
   "execution_count": 7
  },
  {
   "cell_type": "markdown",
   "id": "170dbec0-a1ed-49c8-ab97-cd424e736ddd",
   "metadata": {},
   "outputs": [],
   "source": [
    "## Exercise 1\n",
    "In this Exercise, generate photos of the random 5 users.\n"
   ]
  },
  {
   "cell_type": "code",
   "id": "32f76e4d-ddd3-48a8-91a9-abd6251af1ab",
   "metadata": {
    "ExecuteTime": {
     "start_time": "2023-05-24T17:12:39.833168Z",
     "end_time": "2023-05-24T17:12:39.876199Z"
    }
   },
   "outputs": [],
   "source": [
    "## Write your code here\n"
   ],
   "execution_count": 8
  },
  {
   "cell_type": "markdown",
   "id": "71eb3d41-2a7f-4dc4-a750-2306fe1c50ba",
   "metadata": {},
   "outputs": [],
   "source": [
    "<details><summary>Click here for the solution</summary>\n",
    "\n",
    "```python\n",
    "for user in some_list:\n",
    "    print (user.get_picture())\n",
    "```\n",
    "\n",
    "</details>\n"
   ]
  },
  {
   "cell_type": "markdown",
   "id": "2aa84a71-14be-45c3-bdd6-f72f51b9fda0",
   "metadata": {},
   "outputs": [],
   "source": [
    "To generate a table with information about the users, we can write a function containing all desirable parameters. For example, name, gender, city, etc. The parameters will depend on the requirements of the test to be performed. We call the Get Methods, listed at the beginning of this notebook. Then, we return pandas dataframe with the users.\n"
   ]
  },
  {
   "cell_type": "code",
   "id": "6c9e592a-1201-41a4-bcfe-540e31d02ff1",
   "metadata": {
    "ExecuteTime": {
     "start_time": "2023-05-24T17:12:39.869201Z",
     "end_time": "2023-05-24T17:12:39.884630Z"
    }
   },
   "outputs": [],
   "source": [
    "def get_users():\n",
    "    users =[]\n",
    "     \n",
    "    for user in RandomUser.generate_users(10):\n",
    "        users.append({\"Name\":user.get_full_name(),\"Gender\":user.get_gender(),\"City\":user.get_city(),\"State\":user.get_state(),\"Email\":user.get_email(), \"DOB\":user.get_dob(),\"Picture\":user.get_picture()})\n",
    "      \n",
    "    return pd.DataFrame(users)     "
   ],
   "execution_count": 9
  },
  {
   "cell_type": "code",
   "id": "0e389b22-8f73-4691-8a88-aa806c3f659a",
   "metadata": {},
   "outputs": [],
   "source": [
    "get_users()"
   ]
  },
  {
   "cell_type": "code",
   "id": "0048a0ee-306e-4782-80af-2e66ec56257d",
   "metadata": {},
   "outputs": [],
   "source": [
    "df1 = pd.DataFrame(get_users())  "
   ]
  },
  {
   "cell_type": "markdown",
   "id": "0554597a-4666-460b-88ee-749e3b21906b",
   "metadata": {},
   "outputs": [],
   "source": [
    "Now we have a *pandas* dataframe that can be used for any testing purposes that the tester might have.\n"
   ]
  },
  {
   "cell_type": "markdown",
   "id": "d6d12e51-14b0-422a-91ff-2de96643ef83",
   "metadata": {},
   "outputs": [],
   "source": [
    "## Example 2: Fruitvice API\n",
    "\n",
    "Another, more common way to use APIs, is through `requests` library. The next lab, Requests and HTTP, will contain more information about requests.\n",
    "\n",
    "We will start by importing all required libraries.\n"
   ]
  },
  {
   "cell_type": "code",
   "id": "829b256e-c5f6-4383-b562-350fd5438ad8",
   "metadata": {},
   "outputs": [],
   "source": [
    "import requests\n",
    "import json"
   ]
  },
  {
   "cell_type": "markdown",
   "id": "00b92b17-4eb7-47bd-9efe-2c4fb180acbf",
   "metadata": {},
   "outputs": [],
   "source": [
    "We will obtain the [fruitvice](https://www.fruityvice.com/?utm_medium=Exinfluencer&utm_source=Exinfluencer&utm_content=000026UJ&utm_term=10006555&utm_id=NA-SkillsNetwork-Channel-SkillsNetworkCoursesIBMDeveloperSkillsNetworkPY0101ENSkillsNetwork1005-2023-01-01) API data using `requests.get(\"url\")` function. The data is in a json format.\n"
   ]
  },
  {
   "cell_type": "code",
   "id": "d31bacde-23ae-47b2-9e79-2901c28d7e33",
   "metadata": {},
   "outputs": [],
   "source": [
    "data = requests.get(\"https://fruityvice.com/api/fruit/all\")"
   ]
  },
  {
   "cell_type": "markdown",
   "id": "3307771d-dc62-4b7b-a450-e5775943c281",
   "metadata": {},
   "outputs": [],
   "source": [
    "We will retrieve results using `json.loads()` function.\n"
   ]
  },
  {
   "cell_type": "code",
   "id": "183e4ccc-6eff-49c7-a709-b6bc40cf6af0",
   "metadata": {},
   "outputs": [],
   "source": [
    "results = json.loads(data.text)"
   ]
  },
  {
   "cell_type": "markdown",
   "id": "4b0225f9-2122-458b-bee5-8b1f0b372a56",
   "metadata": {},
   "outputs": [],
   "source": [
    "We will convert our json data into *pandas* data frame. \n"
   ]
  },
  {
   "cell_type": "code",
   "id": "7a8a12ff-3f6a-4041-a247-689ac49abfca",
   "metadata": {},
   "outputs": [],
   "source": [
    "pd.DataFrame(results)"
   ]
  },
  {
   "cell_type": "markdown",
   "id": "829c8318-bcb0-4bf0-995c-3945c6819907",
   "metadata": {},
   "outputs": [],
   "source": [
    "The result is in a nested json format. The 'nutrition' column contains multiple subcolumns, so the data needs to be 'flattened' or normalized.\n"
   ]
  },
  {
   "cell_type": "code",
   "id": "f580ad34-9bb8-46c1-a3e8-a0d285faf858",
   "metadata": {},
   "outputs": [],
   "source": [
    "df2 = pd.json_normalize(results)"
   ]
  },
  {
   "cell_type": "code",
   "id": "c3d10697-5928-4aad-84ae-0c18ae12a411",
   "metadata": {},
   "outputs": [],
   "source": [
    "df2"
   ]
  },
  {
   "cell_type": "markdown",
   "id": "ecc2441a-70ec-44b2-86b8-72e05ee8f3ad",
   "metadata": {},
   "outputs": [],
   "source": [
    "Let's see if we can extract some information from this dataframe. Perhaps, we need to know the family and genus of a cherry.\n"
   ]
  },
  {
   "cell_type": "code",
   "id": "717fbb95-c736-48d5-8254-f255a50b9067",
   "metadata": {},
   "outputs": [],
   "source": [
    "cherry = df2.loc[df2[\"name\"] == 'Cherry']\n",
    "(cherry.iloc[0]['family']) , (cherry.iloc[0]['genus'])"
   ]
  },
  {
   "cell_type": "markdown",
   "id": "d4ad7c4f-b175-4c89-8d37-5ef21da3e3f4",
   "metadata": {},
   "outputs": [],
   "source": [
    "## Exercise 2\n",
    "In this Exercise, find out how many calories are contained in a banana.\n"
   ]
  },
  {
   "cell_type": "code",
   "id": "77e774f6-b32a-485c-bba4-d7b2fffeeca1",
   "metadata": {},
   "outputs": [],
   "source": [
    "# Write your code here\n"
   ]
  },
  {
   "cell_type": "markdown",
   "id": "4785de80-2019-42f0-8c4b-bf459701a25b",
   "metadata": {},
   "outputs": [],
   "source": [
    "<details><summary>Click here for the solution</summary>\n",
    "\n",
    "```python\n",
    "cal_banana = df2.loc[df2[\"name\"] == 'Banana']\n",
    "cal_banana.iloc[0]['nutritions.calories']\n",
    "```\n",
    "\n",
    "</details>\n"
   ]
  },
  {
   "cell_type": "markdown",
   "id": "d5637098-7fb1-44a7-aafc-3a2f7b6f1bb6",
   "metadata": {},
   "outputs": [],
   "source": [
    "## Exercise 3\n",
    "\n",
    "This [page](https://github.com/public-apis/public-apis#animals) contains a list of free public APIs. Choose any API of your interest and use it to load/extract some information, as shown in the example above.\n",
    "1. Using `requests.get(\"url\")` function, load your data.\n"
   ]
  },
  {
   "cell_type": "code",
   "id": "a0227258-98ab-48fd-83e5-9633ebabe70d",
   "metadata": {},
   "outputs": [],
   "source": [
    "# Write your code here\n"
   ]
  },
  {
   "cell_type": "markdown",
   "id": "d24ad9b2-8e62-4000-acf9-d38d1e331e72",
   "metadata": {},
   "outputs": [],
   "source": [
    "<details><summary>Click here for the solution</summary>\n",
    "\n",
    "```python\n",
    "data2 = requests.get(\"https://www.fishwatch.gov/api/species\")\n",
    "```\n",
    "\n",
    "</details>\n"
   ]
  },
  {
   "cell_type": "markdown",
   "id": "ee466d4e-6bf0-40c7-aae6-b094fc4f43fa",
   "metadata": {},
   "outputs": [],
   "source": [
    "2. Retrieve results using `json.loads()` function.\n"
   ]
  },
  {
   "cell_type": "code",
   "id": "5a6ffdab-8d7a-44a8-af24-b2a4e2c790a2",
   "metadata": {},
   "outputs": [],
   "source": [
    "# Write your code here\n"
   ]
  },
  {
   "cell_type": "markdown",
   "id": "b3147d09-c706-43dd-a756-cf704486c6ff",
   "metadata": {},
   "outputs": [],
   "source": [
    "<details><summary>Click here for the solution</summary>\n",
    "\n",
    "```python\n",
    "results2 = json.loads(data2.text)\n",
    "```\n",
    "\n",
    "</details>\n"
   ]
  },
  {
   "cell_type": "markdown",
   "id": "eb9af9ab-c219-4216-9704-82236bc03026",
   "metadata": {},
   "outputs": [],
   "source": [
    "3. Convert json data into *pandas* data frame. \n"
   ]
  },
  {
   "cell_type": "code",
   "id": "f4562c3d-3ecb-4466-987c-4d0e81f1b90a",
   "metadata": {},
   "outputs": [],
   "source": [
    "# Write your code here\n"
   ]
  },
  {
   "cell_type": "markdown",
   "id": "142719e9-c798-4c74-bdeb-30714f4f19ff",
   "metadata": {},
   "outputs": [],
   "source": [
    "<details><summary>Click here for the solution</summary>\n",
    "\n",
    "```python\n",
    "df3 = pd.DataFrame(results2)\n",
    "df3\n",
    "```\n",
    "\n",
    "</details>\n"
   ]
  },
  {
   "cell_type": "code",
   "execution_count": null,
   "outputs": [],
   "source": [],
   "metadata": {
    "collapsed": false
   }
  },
  {
   "cell_type": "markdown",
   "id": "30f8a83b-4d29-45c3-92a1-cd80d5cfacf3",
   "metadata": {},
   "outputs": [],
   "source": [
    "                                Copyright © 2020 IBM Corporation. All rights reserved.\n"
   ]
  }
 ],
 "metadata": {
  "kernelspec": {
   "name": "python3",
   "language": "python",
   "display_name": "Python 3 (ipykernel)"
  },
  "language_info": {
   "name": ""
  }
 },
 "nbformat": 4,
 "nbformat_minor": 4
}
