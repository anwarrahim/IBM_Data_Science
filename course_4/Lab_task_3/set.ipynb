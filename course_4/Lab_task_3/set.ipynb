{
 "cells": [
  {
   "cell_type": "markdown",
   "source": [
    "# set"
   ],
   "metadata": {
    "collapsed": false
   }
  },
  {
   "cell_type": "markdown",
   "source": [
    "**Set is defined by curly braces { }**\n",
    "**set does not have duplicate values**\n",
    "example\n",
    "name = {\"Anwar Rahim\", \"kashif\", \"Ahmad\",\"Nasir\",\"Anwar Rahim\",\"Nasir\"}\n",
    "when name is created to be set then the result will be\n",
    "name = {\"Anwar Rahim\", \"kashif\", \"Ahmad\", Nasir\"}"
   ],
   "metadata": {
    "collapsed": false
   }
  },
  {
   "cell_type": "code",
   "execution_count": 1,
   "outputs": [],
   "source": [
    "#list can change to set\n",
    "data = [\"Anwar Rahim\", 22, \"three\", \"khan\",\"Anwar Rahim\", 23, 22]"
   ],
   "metadata": {
    "collapsed": false
   }
  },
  {
   "cell_type": "code",
   "execution_count": 8,
   "outputs": [
    {
     "name": "stdout",
     "output_type": "stream",
     "text": [
      "{'three', 'Anwar Rahim', 'khan', 22, 23}\n"
     ]
    }
   ],
   "source": [
    "data=set(data)\n",
    "print(data)"
   ],
   "metadata": {
    "collapsed": false
   }
  },
  {
   "cell_type": "code",
   "execution_count": 9,
   "outputs": [],
   "source": [
    "#notice that duplicate elements has removed"
   ],
   "metadata": {
    "collapsed": false
   }
  },
  {
   "cell_type": "code",
   "execution_count": null,
   "outputs": [],
   "source": [],
   "metadata": {
    "collapsed": false
   }
  }
 ],
 "metadata": {
  "kernelspec": {
   "display_name": "Python 3",
   "language": "python",
   "name": "python3"
  },
  "language_info": {
   "codemirror_mode": {
    "name": "ipython",
    "version": 2
   },
   "file_extension": ".py",
   "mimetype": "text/x-python",
   "name": "python",
   "nbconvert_exporter": "python",
   "pygments_lexer": "ipython2",
   "version": "2.7.6"
  }
 },
 "nbformat": 4,
 "nbformat_minor": 0
}
