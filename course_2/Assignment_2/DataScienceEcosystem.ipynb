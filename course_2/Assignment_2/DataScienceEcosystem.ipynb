{
 "cells": [
  {
   "cell_type": "markdown",
   "id": "18ac8e41-0751-4bfc-93c9-3dd50d51a4da",
   "metadata": {},
   "source": [
    "# Data Science Tools and Ecosystem"
   ]
  },
  {
   "cell_type": "markdown",
   "id": "36c256a1-2b69-4201-96ba-770b8c41c24c",
   "metadata": {},
   "source": [
    "In this notebook, Data Science Tools and Ecosystem are summarized."
   ]
  },
  {
   "cell_type": "markdown",
   "id": "2c17919c-2e66-4d93-b650-8d2dda4b08f9",
   "metadata": {},
   "source": [
    "Some of the popular languages that Data Scientists use are:\n",
    "1. python\n",
    "2. SQL\n",
    "3. Python Libraries\n",
    "\n"
   ]
  },
  {
   "cell_type": "markdown",
   "id": "f76d42e9-74e8-4045-8607-8c51af9f81c9",
   "metadata": {},
   "source": [
    "Some of the commonly used libraries used by Data Scientists include:\n",
    "1. Numpy\n",
    "2. Panda\n",
    "3. scikit learn\n",
    "4. Matplotlib\n"
   ]
  },
  {
   "cell_type": "markdown",
   "id": "18772927-7426-4141-9ee0-8313d8516acd",
   "metadata": {},
   "source": [
    "**Exercise 6 - Create a markdown cell with a table of Data Science tools**"
   ]
  },
  {
   "cell_type": "markdown",
   "id": "b3a24ffa-b907-4176-85f8-1a5347a073cd",
   "metadata": {},
   "source": [
    "| Data Science Tools |\n",
    "| --- |\n",
    "| Jupyter Notebook |\n",
    "| Rstudio |\n",
    "| Apache Zeppelin |\n",
    "\n"
   ]
  },
  {
   "cell_type": "markdown",
   "id": "d641520c-1d78-44c3-8bab-f34bb25dfa93",
   "metadata": {},
   "source": [
    "**Exercise 7 - Create a markdown cell introducing arithmetic expression examples**"
   ]
  },
  {
   "cell_type": "markdown",
   "id": "fa262eb2-f7c4-49e2-897c-8602ffc60ed3",
   "metadata": {},
   "source": [
    "Below are a few examples of evaluating arithmetic expressions in Python"
   ]
  },
  {
   "cell_type": "code",
   "execution_count": 20,
   "id": "56335ce3-a90b-4b40-b270-c9e9d4a19fdb",
   "metadata": {},
   "outputs": [
    {
     "name": "stdout",
     "output_type": "stream",
     "text": [
      "3\n"
     ]
    }
   ],
   "source": [
    "print(1+2)"
   ]
  },
  {
   "cell_type": "code",
   "execution_count": 21,
   "id": "b04fc958-9b44-45d6-8a31-db524d94b6dc",
   "metadata": {},
   "outputs": [
    {
     "name": "stdout",
     "output_type": "stream",
     "text": [
      "8\n"
     ]
    }
   ],
   "source": [
    "print(2*4)"
   ]
  },
  {
   "cell_type": "code",
   "execution_count": 22,
   "id": "1e695efc-b26b-4cd4-88f2-667b50d20d1a",
   "metadata": {},
   "outputs": [
    {
     "name": "stdout",
     "output_type": "stream",
     "text": [
      "20.0\n"
     ]
    }
   ],
   "source": [
    "print(40/2)"
   ]
  },
  {
   "cell_type": "markdown",
   "id": "00b3bcf1-6aa7-48fb-a6af-4583da04a884",
   "metadata": {},
   "source": [
    "**Exercise 8 - Create a code cell to multiply and add numbers**"
   ]
  },
  {
   "cell_type": "markdown",
   "id": "74ed45a3-e251-4c18-b8e0-3ea39b511b37",
   "metadata": {},
   "source": [
    "This a simple arithmetic expression to mutiply then add integers\n"
   ]
  },
  {
   "cell_type": "code",
   "execution_count": 25,
   "id": "2d34eaf5-758d-4193-97eb-d04559d3c834",
   "metadata": {},
   "outputs": [
    {
     "name": "stdout",
     "output_type": "stream",
     "text": [
      "17\n"
     ]
    }
   ],
   "source": [
    "print( (3*4)+5)"
   ]
  },
  {
   "cell_type": "markdown",
   "id": "a82bc90a-30aa-4756-95e5-e96483642255",
   "metadata": {},
   "source": [
    "**Exercise 9 - Create a code cell to convert minutes to hours**"
   ]
  },
  {
   "cell_type": "markdown",
   "id": "1b94e689-f07c-4902-828d-ebe4d6f59ce1",
   "metadata": {},
   "source": [
    "This will convert 200 minutes to hours by dividing by 60"
   ]
  },
  {
   "cell_type": "code",
   "execution_count": 27,
   "id": "1a0feb28-f5db-4847-9fd9-0b993a8824fe",
   "metadata": {},
   "outputs": [
    {
     "name": "stdout",
     "output_type": "stream",
     "text": [
      "3.3333333333333335\n"
     ]
    }
   ],
   "source": [
    "print(200/60)"
   ]
  },
  {
   "cell_type": "markdown",
   "id": "3e3b93ab-a9f5-4192-8423-b0c4c3c4ab3b",
   "metadata": {},
   "source": [
    "**Exercise 10 - Insert a markdown cell to list Objectives**"
   ]
  },
  {
   "cell_type": "markdown",
   "id": "fb42a181-97a7-495f-a889-a952086c8199",
   "metadata": {},
   "source": [
    "**Objectives:**\n",
    "- markdown writing skill\n",
    "- python coding\n",
    "- commenting the code\n",
    "- increase code readability\n"
   ]
  },
  {
   "cell_type": "markdown",
   "id": "49e81402-6ec4-4a5e-8ced-9b2b866d2e6e",
   "metadata": {},
   "source": [
    "**Exercise 11 - Create a markdown cell to indicate the Author's name**"
   ]
  },
  {
   "cell_type": "markdown",
   "id": "45604148-466f-41d6-9674-7af5e9f0008d",
   "metadata": {},
   "source": [
    "## Author"
   ]
  },
  {
   "cell_type": "markdown",
   "id": "ca334c88-0aeb-4b5f-b34e-a8d53a30b557",
   "metadata": {},
   "source": [
    "Anwar Rahim"
   ]
  }
 ],
 "metadata": {
  "kernelspec": {
   "display_name": "Python",
   "language": "python",
   "name": "conda-env-python-py"
  },
  "language_info": {
   "codemirror_mode": {
    "name": "ipython",
    "version": 3
   },
   "file_extension": ".py",
   "mimetype": "text/x-python",
   "name": "python",
   "nbconvert_exporter": "python",
   "pygments_lexer": "ipython3",
   "version": "3.7.12"
  }
 },
 "nbformat": 4,
 "nbformat_minor": 5
}
